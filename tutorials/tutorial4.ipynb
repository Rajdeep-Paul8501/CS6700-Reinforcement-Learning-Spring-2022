{
  "nbformat": 4,
  "nbformat_minor": 0,
  "metadata": {
    "colab": {
      "name": "Tutorial_4_DQN_and_AC.ipynb",
      "provenance": [],
      "collapsed_sections": [
        "5LBh6_lOVBdN"
      ]
    },
    "kernelspec": {
      "name": "python3",
      "display_name": "Python 3"
    },
    "language_info": {
      "name": "python"
    },
    "accelerator": "GPU"
  },
  "cells": [
    {
      "cell_type": "markdown",
      "source": [
        "#**Tutorial 4 - DQN and Actor-Critic**\n",
        "\n",
        "Please follow this tutorial to understand the structure (code) of DQNs & get familiar with Actor Critic methods.\n",
        "\n",
        "\n",
        "### References:\n",
        "\n",
        "Please follow [Human-level control through deep reinforcement learning](https://www.nature.com/articles/nature14236) for the original publication as well as the psuedocode. Watch Prof. Ravi's lectures on moodle or nptel for further understanding the core concepts. Contact the TAs for further resources if needed. \n",
        "\n",
        "\n",
        "##**Part 1: DQN**"
      ],
      "metadata": {
        "id": "pn7PKu9r0asK"
      }
    },
    {
      "cell_type": "code",
      "source": [
        "'''\n",
        "Installing packages for rendering the game on Colab\n",
        "'''\n",
        "\n",
        "!pip install gym pyvirtualdisplay > /dev/null 2>&1\n",
        "!apt-get install -y xvfb python-opengl ffmpeg > /dev/null 2>&1\n",
        "!apt-get update > /dev/null 2>&1\n",
        "!apt-get install cmake > /dev/null 2>&1\n",
        "!pip install --upgrade setuptools 2>&1\n",
        "!pip install ez_setup > /dev/null 2>&1\n",
        "!pip install gym[atari] > /dev/null 2>&1\n",
        "!pip install git+https://github.com/tensorflow/docs > /dev/null 2>&1"
      ],
      "metadata": {
        "colab": {
          "base_uri": "https://localhost:8080/"
        },
        "id": "azUjb7UK4Yfh",
        "outputId": "fe104c6d-ea62-4940-b2e7-4e9faad7c812"
      },
      "execution_count": 1,
      "outputs": [
        {
          "output_type": "stream",
          "name": "stdout",
          "text": [
            "Requirement already satisfied: setuptools in /usr/local/lib/python3.7/dist-packages (60.9.3)\n"
          ]
        }
      ]
    },
    {
      "cell_type": "code",
      "source": [
        "!pip install tensorflow-gpu"
      ],
      "metadata": {
        "id": "dfCgocAHOZ6n",
        "colab": {
          "base_uri": "https://localhost:8080/"
        },
        "outputId": "648b1d11-1ceb-4e0e-fe76-8632755b4fdc"
      },
      "execution_count": 2,
      "outputs": [
        {
          "output_type": "stream",
          "name": "stdout",
          "text": [
            "Collecting tensorflow-gpu\n",
            "  Downloading tensorflow_gpu-2.8.0-cp37-cp37m-manylinux2010_x86_64.whl (497.5 MB)\n",
            "\u001b[K     |████████████████████████████████| 497.5 MB 26 kB/s \n",
            "\u001b[?25hRequirement already satisfied: grpcio<2.0,>=1.24.3 in /usr/local/lib/python3.7/dist-packages (from tensorflow-gpu) (1.44.0)\n",
            "Requirement already satisfied: opt-einsum>=2.3.2 in /usr/local/lib/python3.7/dist-packages (from tensorflow-gpu) (3.3.0)\n",
            "Requirement already satisfied: six>=1.12.0 in /usr/local/lib/python3.7/dist-packages (from tensorflow-gpu) (1.15.0)\n",
            "Requirement already satisfied: numpy>=1.20 in /usr/local/lib/python3.7/dist-packages (from tensorflow-gpu) (1.21.5)\n",
            "Requirement already satisfied: h5py>=2.9.0 in /usr/local/lib/python3.7/dist-packages (from tensorflow-gpu) (3.1.0)\n",
            "Requirement already satisfied: setuptools in /usr/local/lib/python3.7/dist-packages (from tensorflow-gpu) (60.9.3)\n",
            "Requirement already satisfied: tensorboard<2.9,>=2.8 in /usr/local/lib/python3.7/dist-packages (from tensorflow-gpu) (2.8.0)\n",
            "Requirement already satisfied: gast>=0.2.1 in /usr/local/lib/python3.7/dist-packages (from tensorflow-gpu) (0.5.3)\n",
            "Requirement already satisfied: libclang>=9.0.1 in /usr/local/lib/python3.7/dist-packages (from tensorflow-gpu) (13.0.0)\n",
            "Requirement already satisfied: absl-py>=0.4.0 in /usr/local/lib/python3.7/dist-packages (from tensorflow-gpu) (1.0.0)\n",
            "Requirement already satisfied: wrapt>=1.11.0 in /usr/local/lib/python3.7/dist-packages (from tensorflow-gpu) (1.13.3)\n",
            "Requirement already satisfied: keras<2.9,>=2.8.0rc0 in /usr/local/lib/python3.7/dist-packages (from tensorflow-gpu) (2.8.0)\n",
            "Requirement already satisfied: tensorflow-io-gcs-filesystem>=0.23.1 in /usr/local/lib/python3.7/dist-packages (from tensorflow-gpu) (0.24.0)\n",
            "Requirement already satisfied: flatbuffers>=1.12 in /usr/local/lib/python3.7/dist-packages (from tensorflow-gpu) (2.0)\n",
            "Requirement already satisfied: typing-extensions>=3.6.6 in /usr/local/lib/python3.7/dist-packages (from tensorflow-gpu) (3.10.0.2)\n",
            "Requirement already satisfied: keras-preprocessing>=1.1.1 in /usr/local/lib/python3.7/dist-packages (from tensorflow-gpu) (1.1.2)\n",
            "Requirement already satisfied: google-pasta>=0.1.1 in /usr/local/lib/python3.7/dist-packages (from tensorflow-gpu) (0.2.0)\n",
            "Requirement already satisfied: protobuf>=3.9.2 in /usr/local/lib/python3.7/dist-packages (from tensorflow-gpu) (3.17.3)\n",
            "Requirement already satisfied: termcolor>=1.1.0 in /usr/local/lib/python3.7/dist-packages (from tensorflow-gpu) (1.1.0)\n",
            "Requirement already satisfied: astunparse>=1.6.0 in /usr/local/lib/python3.7/dist-packages (from tensorflow-gpu) (1.6.3)\n",
            "Collecting tf-estimator-nightly==2.8.0.dev2021122109\n",
            "  Downloading tf_estimator_nightly-2.8.0.dev2021122109-py2.py3-none-any.whl (462 kB)\n",
            "\u001b[K     |████████████████████████████████| 462 kB 59.4 MB/s \n",
            "\u001b[?25hRequirement already satisfied: wheel<1.0,>=0.23.0 in /usr/local/lib/python3.7/dist-packages (from astunparse>=1.6.0->tensorflow-gpu) (0.37.1)\n",
            "Requirement already satisfied: cached-property in /usr/local/lib/python3.7/dist-packages (from h5py>=2.9.0->tensorflow-gpu) (1.5.2)\n",
            "Requirement already satisfied: markdown>=2.6.8 in /usr/local/lib/python3.7/dist-packages (from tensorboard<2.9,>=2.8->tensorflow-gpu) (3.3.6)\n",
            "Requirement already satisfied: werkzeug>=0.11.15 in /usr/local/lib/python3.7/dist-packages (from tensorboard<2.9,>=2.8->tensorflow-gpu) (1.0.1)\n",
            "Requirement already satisfied: google-auth-oauthlib<0.5,>=0.4.1 in /usr/local/lib/python3.7/dist-packages (from tensorboard<2.9,>=2.8->tensorflow-gpu) (0.4.6)\n",
            "Requirement already satisfied: requests<3,>=2.21.0 in /usr/local/lib/python3.7/dist-packages (from tensorboard<2.9,>=2.8->tensorflow-gpu) (2.23.0)\n",
            "Requirement already satisfied: tensorboard-plugin-wit>=1.6.0 in /usr/local/lib/python3.7/dist-packages (from tensorboard<2.9,>=2.8->tensorflow-gpu) (1.8.1)\n",
            "Requirement already satisfied: tensorboard-data-server<0.7.0,>=0.6.0 in /usr/local/lib/python3.7/dist-packages (from tensorboard<2.9,>=2.8->tensorflow-gpu) (0.6.1)\n",
            "Requirement already satisfied: google-auth<3,>=1.6.3 in /usr/local/lib/python3.7/dist-packages (from tensorboard<2.9,>=2.8->tensorflow-gpu) (1.35.0)\n",
            "Requirement already satisfied: cachetools<5.0,>=2.0.0 in /usr/local/lib/python3.7/dist-packages (from google-auth<3,>=1.6.3->tensorboard<2.9,>=2.8->tensorflow-gpu) (4.2.4)\n",
            "Requirement already satisfied: pyasn1-modules>=0.2.1 in /usr/local/lib/python3.7/dist-packages (from google-auth<3,>=1.6.3->tensorboard<2.9,>=2.8->tensorflow-gpu) (0.2.8)\n",
            "Requirement already satisfied: rsa<5,>=3.1.4 in /usr/local/lib/python3.7/dist-packages (from google-auth<3,>=1.6.3->tensorboard<2.9,>=2.8->tensorflow-gpu) (4.8)\n",
            "Requirement already satisfied: requests-oauthlib>=0.7.0 in /usr/local/lib/python3.7/dist-packages (from google-auth-oauthlib<0.5,>=0.4.1->tensorboard<2.9,>=2.8->tensorflow-gpu) (1.3.1)\n",
            "Requirement already satisfied: importlib-metadata>=4.4 in /usr/local/lib/python3.7/dist-packages (from markdown>=2.6.8->tensorboard<2.9,>=2.8->tensorflow-gpu) (4.11.2)\n",
            "Requirement already satisfied: zipp>=0.5 in /usr/local/lib/python3.7/dist-packages (from importlib-metadata>=4.4->markdown>=2.6.8->tensorboard<2.9,>=2.8->tensorflow-gpu) (3.7.0)\n",
            "Requirement already satisfied: pyasn1<0.5.0,>=0.4.6 in /usr/local/lib/python3.7/dist-packages (from pyasn1-modules>=0.2.1->google-auth<3,>=1.6.3->tensorboard<2.9,>=2.8->tensorflow-gpu) (0.4.8)\n",
            "Requirement already satisfied: urllib3!=1.25.0,!=1.25.1,<1.26,>=1.21.1 in /usr/local/lib/python3.7/dist-packages (from requests<3,>=2.21.0->tensorboard<2.9,>=2.8->tensorflow-gpu) (1.24.3)\n",
            "Requirement already satisfied: idna<3,>=2.5 in /usr/local/lib/python3.7/dist-packages (from requests<3,>=2.21.0->tensorboard<2.9,>=2.8->tensorflow-gpu) (2.10)\n",
            "Requirement already satisfied: chardet<4,>=3.0.2 in /usr/local/lib/python3.7/dist-packages (from requests<3,>=2.21.0->tensorboard<2.9,>=2.8->tensorflow-gpu) (3.0.4)\n",
            "Requirement already satisfied: certifi>=2017.4.17 in /usr/local/lib/python3.7/dist-packages (from requests<3,>=2.21.0->tensorboard<2.9,>=2.8->tensorflow-gpu) (2021.10.8)\n",
            "Requirement already satisfied: oauthlib>=3.0.0 in /usr/local/lib/python3.7/dist-packages (from requests-oauthlib>=0.7.0->google-auth-oauthlib<0.5,>=0.4.1->tensorboard<2.9,>=2.8->tensorflow-gpu) (3.2.0)\n",
            "Installing collected packages: tf-estimator-nightly, tensorflow-gpu\n",
            "Successfully installed tensorflow-gpu-2.8.0 tf-estimator-nightly-2.8.0.dev2021122109\n"
          ]
        }
      ]
    },
    {
      "cell_type": "code",
      "source": [
        "'''\n",
        "A bunch of imports, you don't have to worry about these\n",
        "'''\n",
        "\n",
        "import numpy as np\n",
        "import random\n",
        "import torch\n",
        "import torch.nn as nn  \n",
        "import torch.nn.functional as F\n",
        "from collections import namedtuple, deque\n",
        "import torch.optim as optim\n",
        "import datetime\n",
        "import gym\n",
        "from gym.wrappers import Monitor\n",
        "import glob\n",
        "import io\n",
        "import base64\n",
        "import matplotlib.pyplot as plt\n",
        "from IPython.display import HTML\n",
        "from pyvirtualdisplay import Display\n",
        "import tensorflow as tf\n",
        "from IPython import display as ipythondisplay\n",
        "from PIL import Image\n",
        "import tensorflow_probability as tfp"
      ],
      "metadata": {
        "id": "P_DODRgW_ZKS"
      },
      "execution_count": 3,
      "outputs": []
    },
    {
      "cell_type": "code",
      "source": [
        "'''\n",
        "Please refer to the first tutorial for more details on the specifics of environments\n",
        "We've only added important commands you might find useful for experiments.\n",
        "'''\n",
        "\n",
        "'''\n",
        "List of example environments\n",
        "(Source - https://gym.openai.com/envs/#classic_control)\n",
        "\n",
        "'Acrobot-v1'\n",
        "'CartPole-v0'\n",
        "'MountainCar-v0'\n",
        "'''\n",
        "\n",
        "env = gym.make('CartPole-v0')\n",
        "env.seed(0)\n",
        "\n",
        "state_shape = env.observation_space.shape[0]\n",
        "no_of_actions = env.action_space.n\n",
        "\n",
        "print(state_shape)\n",
        "print(no_of_actions)\n",
        "print(env.action_space.sample())\n",
        "print(\"----\")\n",
        "\n",
        "'''\n",
        "# Understanding State, Action, Reward Dynamics\n",
        "\n",
        "The agent decides an action to take depending on the state.\n",
        "\n",
        "The Environment keeps a variable specifically for the current state.\n",
        "- Everytime an action is passed to the environment, it calculates the new state and updates the current state variable.\n",
        "- It returns the new current state and reward for the agent to take the next action\n",
        "\n",
        "'''\n",
        "\n",
        "state = env.reset()   \n",
        "''' This returns the initial state (when environment is reset) '''\n",
        "\n",
        "print(state)\n",
        "print(\"----\")\n",
        "\n",
        "action = env.action_space.sample()  \n",
        "''' We take a random action now '''\n",
        "\n",
        "print(action)\n",
        "print(\"----\")\n",
        "\n",
        "next_state, reward, done, info = env.step(action) \n",
        "''' env.step is used to calculate new state and obtain reward based on old state and action taken  ''' \n",
        "\n",
        "print(next_state)\n",
        "print(reward)\n",
        "print(done)\n",
        "print(info)\n",
        "print(\"----\")\n"
      ],
      "metadata": {
        "colab": {
          "base_uri": "https://localhost:8080/"
        },
        "id": "fYNA5kiH_esJ",
        "outputId": "bb3f3819-a889-4586-c386-9f194281f6d9"
      },
      "execution_count": 4,
      "outputs": [
        {
          "output_type": "stream",
          "name": "stdout",
          "text": [
            "4\n",
            "2\n",
            "1\n",
            "----\n",
            "[-0.04456399  0.04653909  0.01326909 -0.02099827]\n",
            "----\n",
            "0\n",
            "----\n",
            "[-0.04363321 -0.14877061  0.01284913  0.2758415 ]\n",
            "1.0\n",
            "False\n",
            "{}\n",
            "----\n"
          ]
        }
      ]
    },
    {
      "cell_type": "markdown",
      "source": [
        "## DQN\n",
        "\n",
        "Using NNs as substitutes isn't something new. It has been tried earlier, but the 'human control' paper really popularised using NNs by providing a few stability ideas (Q-Targets, Experience Replay & Truncation). The 'Deep-Q Network' (DQN) Algorithm can be broken down into having the following components. \n",
        "\n",
        "### Q-Network:\n",
        "The neural network used as a function approximator is defined below"
      ],
      "metadata": {
        "id": "apuaOxavDXus"
      }
    },
    {
      "cell_type": "code",
      "source": [
        "'''\n",
        "### Q Network & Some 'hyperparameters'\n",
        "\n",
        "QNetwork1:\n",
        "Input Layer - 4 nodes (State Shape) \\\n",
        "Hidden Layer 1 - 64 nodes \\\n",
        "Hidden Layer 2 - 64 nodes \\\n",
        "Output Layer - 2 nodes (Action Space) \\\n",
        "Optimizer - zero_grad()\n",
        "\n",
        "QNetwork2: Feel free to experiment more\n",
        "'''\n",
        "\n",
        "import torch\n",
        "import torch.nn as nn  \n",
        "import torch.nn.functional as F\n",
        "\n",
        "\n",
        "'''\n",
        "Bunch of Hyper parameters (Which you might have to tune later **wink wink**)\n",
        "'''\n",
        "BUFFER_SIZE = int(1e5) # ''' replay buffer size '''\n",
        "BATCH_SIZE = 64         #''' minibatch size '''\n",
        "GAMMA = 0.99            #''' discount factor '''\n",
        "LR = 5e-4               #''' learning rate '''\n",
        "UPDATE_EVERY = 20       #''' how often to update the network (When Q target is present) '''\n",
        "\n",
        "\n",
        "class QNetwork1(nn.Module):\n",
        "\n",
        "    def __init__(self, state_size, action_size, seed, fc1_units=128, fc2_units=64):\n",
        "        \"\"\"Initialize parameters and build model.\n",
        "        Params\n",
        "        ======\n",
        "            state_size (int): Dimension of each state\n",
        "            action_size (int): Dimension of each action\n",
        "            seed (int): Random seed\n",
        "            fc1_units (int): Number of nodes in first hidden layer\n",
        "            fc2_units (int): Number of nodes in second hidden layer\n",
        "        \"\"\"\n",
        "        super(QNetwork1, self).__init__()\n",
        "        self.seed = torch.manual_seed(seed)\n",
        "        self.fc1 = nn.Linear(state_size, fc1_units)\n",
        "        self.fc2 = nn.Linear(fc1_units, fc2_units)\n",
        "        self.fc3 = nn.Linear(fc2_units, action_size)\n",
        "\n",
        "    def forward(self, state):\n",
        "        \"\"\"Build a network that maps state -> action values.\"\"\"\n",
        "        x = F.relu(self.fc1(state))\n",
        "        x = F.relu(self.fc2(x))\n",
        "        return self.fc3(x)"
      ],
      "metadata": {
        "id": "g4MRC1p2DZbp"
      },
      "execution_count": 5,
      "outputs": []
    },
    {
      "cell_type": "markdown",
      "source": [
        "### Replay Buffer:\n",
        "\n",
        "This is a 'deque' that helps us store experiences. Recall why we use such a technique."
      ],
      "metadata": {
        "id": "Jmv5c0XoK8GA"
      }
    },
    {
      "cell_type": "code",
      "source": [
        "import random\n",
        "import torch\n",
        "import numpy as np\n",
        "from collections import deque, namedtuple\n",
        "\n",
        "device = torch.device(\"cuda:0\" if torch.cuda.is_available() else \"cpu\")\n",
        "\n",
        "class ReplayBuffer:\n",
        "    \"\"\"Fixed-size buffer to store experience tuples.\"\"\"\n",
        "\n",
        "    def __init__(self, action_size, buffer_size, batch_size, seed):\n",
        "        \"\"\"Initialize a ReplayBuffer object.\n",
        "\n",
        "        Params\n",
        "        ======\n",
        "            action_size (int): dimension of each action\n",
        "            buffer_size (int): maximum size of buffer\n",
        "            batch_size (int): size of each training batch\n",
        "            seed (int): random seed\n",
        "        \"\"\"\n",
        "        self.action_size = action_size\n",
        "        self.memory = deque(maxlen=buffer_size)  \n",
        "        self.batch_size = batch_size\n",
        "        self.experience = namedtuple(\"Experience\", field_names=[\"state\", \"action\", \"reward\", \"next_state\", \"done\"])\n",
        "        self.seed = random.seed(seed)\n",
        "    \n",
        "    def add(self, state, action, reward, next_state, done):\n",
        "        \"\"\"Add a new experience to memory.\"\"\"\n",
        "        e = self.experience(state, action, reward, next_state, done)\n",
        "        self.memory.append(e)\n",
        "    \n",
        "    def sample(self):\n",
        "        \"\"\"Randomly sample a batch of experiences from memory.\"\"\"\n",
        "        experiences = random.sample(self.memory, k=self.batch_size)\n",
        "\n",
        "        states = torch.from_numpy(np.vstack([e.state for e in experiences if e is not None])).float().to(device)\n",
        "        actions = torch.from_numpy(np.vstack([e.action for e in experiences if e is not None])).long().to(device)\n",
        "        rewards = torch.from_numpy(np.vstack([e.reward for e in experiences if e is not None])).float().to(device)\n",
        "        next_states = torch.from_numpy(np.vstack([e.next_state for e in experiences if e is not None])).float().to(device)\n",
        "        dones = torch.from_numpy(np.vstack([e.done for e in experiences if e is not None]).astype(np.uint8)).float().to(device)\n",
        "  \n",
        "        return (states, actions, rewards, next_states, dones)\n",
        "\n",
        "    def __len__(self):\n",
        "        \"\"\"Return the current size of internal memory.\"\"\"\n",
        "        return len(self.memory)"
      ],
      "metadata": {
        "id": "bh_oghc7Ledh"
      },
      "execution_count": 6,
      "outputs": []
    },
    {
      "cell_type": "markdown",
      "source": [
        "## Truncation:\n",
        "We add a line (optionally) in the code to truncate the gradient in hopes that it would help with the stability of the learning process.\n",
        "\n",
        "## Tutorial Agent Code:\n"
      ],
      "metadata": {
        "id": "N8VJYkqoLqlO"
      }
    },
    {
      "cell_type": "code",
      "source": [
        "rewards_dqn_epsilon = []\n",
        "rewards_dqn_softmax = []\n",
        "class TutorialAgent():\n",
        "\n",
        "    def __init__(self, state_size, action_size, seed):\n",
        "\n",
        "        ''' Agent Environment Interaction '''\n",
        "        self.state_size = state_size\n",
        "        self.action_size = action_size\n",
        "        self.seed = random.seed(seed)\n",
        "\n",
        "        ''' Q-Network '''\n",
        "        self.qnetwork_local = QNetwork1(state_size, action_size, seed).to(device)\n",
        "        self.qnetwork_target = QNetwork1(state_size, action_size, seed).to(device)\n",
        "        self.optimizer = optim.Adam(self.qnetwork_local.parameters(), lr=LR)\n",
        "\n",
        "        ''' Replay memory '''\n",
        "        self.memory = ReplayBuffer(action_size, BUFFER_SIZE, BATCH_SIZE, seed)\n",
        "\n",
        "        ''' Initialize time step (for updating every UPDATE_EVERY steps)           -Needed for Q Targets '''\n",
        "        self.t_step = 0\n",
        "    \n",
        "    def step(self, state, action, reward, next_state, done):\n",
        "\n",
        "        ''' Save experience in replay memory '''\n",
        "        self.memory.add(state, action, reward, next_state, done)\n",
        "        \n",
        "        ''' If enough samples are available in memory, get random subset and learn '''\n",
        "        if len(self.memory) >= BATCH_SIZE:\n",
        "            experiences = self.memory.sample()\n",
        "            self.learn(experiences, GAMMA)\n",
        "\n",
        "        \"\"\" +Q TARGETS PRESENT \"\"\"\n",
        "        ''' Updating the Network every 'UPDATE_EVERY' steps taken '''      \n",
        "        self.t_step = (self.t_step + 1) % UPDATE_EVERY\n",
        "        if self.t_step == 0:\n",
        "\n",
        "            self.qnetwork_target.load_state_dict(self.qnetwork_local.state_dict())\n",
        "\n",
        "    def act(self, state, eps=0.):\n",
        "\n",
        "        state = torch.from_numpy(state).float().unsqueeze(0).to(device)\n",
        "        self.qnetwork_local.eval()\n",
        "        with torch.no_grad():\n",
        "            action_values = self.qnetwork_local(state)\n",
        "        self.qnetwork_local.train()\n",
        "\n",
        "        ''' Epsilon-greedy action selection (Already Present) '''\n",
        "        if random.random() > eps:\n",
        "            return np.argmax(action_values.cpu().data.numpy())\n",
        "        else:\n",
        "            return random.choice(np.arange(self.action_size))\n",
        "\n",
        "    def learn(self, experiences, gamma):\n",
        "        \"\"\" +E EXPERIENCE REPLAY PRESENT \"\"\"\n",
        "        states, actions, rewards, next_states, dones = experiences\n",
        "\n",
        "        ''' Get max predicted Q values (for next states) from target model'''\n",
        "        Q_targets_next = self.qnetwork_target(next_states).detach().max(1)[0].unsqueeze(1)\n",
        "\n",
        "        ''' Compute Q targets for current states '''\n",
        "        Q_targets = rewards + (gamma * Q_targets_next * (1 - dones))\n",
        "\n",
        "        ''' Get expected Q values from local model '''\n",
        "        Q_expected = self.qnetwork_local(states).gather(1, actions)\n",
        "\n",
        "        ''' Compute loss '''\n",
        "        loss = F.mse_loss(Q_expected, Q_targets)\n",
        "\n",
        "        ''' Minimize the loss '''\n",
        "        self.optimizer.zero_grad()\n",
        "        loss.backward()\n",
        "        \n",
        "        ''' Gradiant Clipping '''\n",
        "        \"\"\" +T TRUNCATION PRESENT \"\"\"\n",
        "        for param in self.qnetwork_local.parameters():\n",
        "            param.grad.data.clamp_(-1, 1)\n",
        "            \n",
        "        self.optimizer.step()"
      ],
      "metadata": {
        "id": "ok_5eQM7OCTj"
      },
      "execution_count": 7,
      "outputs": []
    },
    {
      "cell_type": "markdown",
      "source": [
        "### Here, we present the DQN algorithm code."
      ],
      "metadata": {
        "id": "3SQFbRCHWQyO"
      }
    },
    {
      "cell_type": "code",
      "source": [
        "''' Defining DQN Algorithm '''\n",
        "\n",
        "state_shape = env.observation_space.shape[0]\n",
        "action_shape = env.action_space.n\n",
        "\n",
        "def dqn(n_episodes=10000, max_t=1000, eps_start=1.0, eps_end=0.01, eps_decay=0.995):\n",
        "\n",
        "    scores = []                 \n",
        "    ''' list containing scores from each episode '''\n",
        "\n",
        "    scores_window_printing = deque(maxlen=10) \n",
        "    ''' For printing in the graph '''\n",
        "    \n",
        "    scores_window= deque(maxlen=100)  \n",
        "    ''' last 100 scores for checking if the avg is more than 195 '''\n",
        "\n",
        "    eps = eps_start                    \n",
        "    ''' initialize epsilon '''\n",
        "\n",
        "    for i_episode in range(1, n_episodes+1):\n",
        "        state = env.reset()\n",
        "        score = 0\n",
        "        for t in range(max_t):\n",
        "            action = agent.act(state, eps)\n",
        "            next_state, reward, done, _ = env.step(action)\n",
        "            agent.step(state, action, reward, next_state, done)\n",
        "            state = next_state\n",
        "            score += reward\n",
        "            if done:\n",
        "                break \n",
        "        \n",
        "        scores_window.append(score)       \n",
        "        scores_window_printing.append(score)   \n",
        "        ''' save most recent score '''           \n",
        "\n",
        "        eps = max(eps_end, eps_decay*eps) \n",
        "        ''' decrease epsilon '''\n",
        "\n",
        "        print('\\rEpisode {}\\tAverage Score: {:.2f}'.format(i_episode, np.mean(scores_window)), end=\"\")  \n",
        "        \n",
        "        scores.append(np.mean(scores_window_printing))        \n",
        "        if i_episode % 100 == 0: \n",
        "           print('\\rEpisode {}\\tAverage Score: {:.2f}'.format(i_episode, np.mean(scores_window)))\n",
        "        if np.mean(scores_window)>=195.0:\n",
        "           print('\\nEnvironment solved in {:d} episodes!\\tAverage Score: {:.2f}'.format(i_episode-100, np.mean(scores_window)))\n",
        "           break\n",
        "    return [np.array(scores),i_episode-100]\n",
        "\n",
        "''' Trial run to check if algorithm runs and saves the data '''\n",
        "\n"
      ],
      "metadata": {
        "colab": {
          "base_uri": "https://localhost:8080/",
          "height": 35
        },
        "id": "r6A2TdUHWVUN",
        "outputId": "c660f137-f6d1-4fc2-fe1d-d89f92851a45"
      },
      "execution_count": 49,
      "outputs": [
        {
          "output_type": "execute_result",
          "data": {
            "application/vnd.google.colaboratory.intrinsic+json": {
              "type": "string"
            },
            "text/plain": [
              "' Trial run to check if algorithm runs and saves the data '"
            ]
          },
          "metadata": {},
          "execution_count": 49
        }
      ]
    },
    {
      "cell_type": "markdown",
      "source": [
        "### **Task 1a**  \n",
        "Understand the core of the algorithm, follow the flow of data. Identify the exploration strategy used.\n",
        "### **Task 1b**\n",
        "Out of the two exploration strategies discussed in class ($ϵ$-greedy & Softmax). Implement the strategy that's not used here. \n",
        "### **Task 1c**\n",
        "How fast does the agent 'solve' the environment in terms of the number of episodes?\n",
        "(CartPole-v0 defines \"solving\" as getting average reward of 195.0 over 100 consecutive trials. SOURCE - https://gym.openai.com/envs/CartPole-v0/)\n",
        "\n",
        "How 'well' does the agent learn? (reward plot?) The above two are some 'evaluation metrics' you can use to comment on the performance of an algorithm.\n",
        "\n",
        "Please compare DQN (using $\\epsilon$-greedy) with DQN (using softmax). Think along the lines of 'no. of episodes', 'reward plots', 'compute time', etc. and add a few comments.\n",
        "\n",
        "### **Task 1d (Optional)** \n",
        "\n",
        "Take a look at the official submissions page on [OpenAI gym's CartPole v-0 evaluations](https://gym.openai.com/envs/CartPole-v0/) \n",
        "\n",
        "\n"
      ],
      "metadata": {
        "id": "sL9YMq9yPHLk"
      }
    },
    {
      "cell_type": "markdown",
      "source": [
        "### **Solution to Task 1a**  \n",
        "$ϵ$-greedy exploration strategy has already been implemented\n",
        "\n"
      ],
      "metadata": {
        "id": "iSrNmnnV36ZL"
      }
    },
    {
      "cell_type": "markdown",
      "source": [
        "### **Solution to Task 1b**\n"
      ],
      "metadata": {
        "id": "ycJtkHO34mUs"
      }
    },
    {
      "cell_type": "code",
      "source": [
        "from scipy.special import softmax\n",
        "class TutorialAgent_softmax():\n",
        "\n",
        "    def __init__(self, state_size, action_size, seed):\n",
        "\n",
        "        ''' Agent Environment Interaction '''\n",
        "        self.state_size = state_size\n",
        "        self.action_size = action_size\n",
        "        self.seed = random.seed(seed)\n",
        "\n",
        "        ''' Q-Network '''\n",
        "        self.qnetwork_local = QNetwork1(state_size, action_size, seed).to(device)\n",
        "        self.qnetwork_target = QNetwork1(state_size, action_size, seed).to(device)\n",
        "        self.optimizer = optim.Adam(self.qnetwork_local.parameters(), lr=LR)\n",
        "\n",
        "        ''' Replay memory '''\n",
        "        self.memory = ReplayBuffer(action_size, BUFFER_SIZE, BATCH_SIZE, seed)\n",
        "\n",
        "        ''' Initialize time step (for updating every UPDATE_EVERY steps)           -Needed for Q Targets '''\n",
        "        self.t_step = 0\n",
        "    \n",
        "    def step(self, state, action, reward, next_state, done):\n",
        "\n",
        "        ''' Save experience in replay memory '''\n",
        "        self.memory.add(state, action, reward, next_state, done)\n",
        "        \n",
        "        ''' If enough samples are available in memory, get random subset and learn '''\n",
        "        if len(self.memory) >= BATCH_SIZE:\n",
        "            experiences = self.memory.sample()\n",
        "            self.learn(experiences, GAMMA)\n",
        "\n",
        "        \"\"\" +Q TARGETS PRESENT \"\"\"\n",
        "        ''' Updating the Network every 'UPDATE_EVERY' steps taken '''      \n",
        "        self.t_step = (self.t_step + 1) % UPDATE_EVERY\n",
        "        if self.t_step == 0:\n",
        "\n",
        "            self.qnetwork_target.load_state_dict(self.qnetwork_local.state_dict())\n",
        "\n",
        "    def act(self, state, temp = 1):\n",
        "\n",
        "        state = torch.from_numpy(state).float().unsqueeze(0).to(device)\n",
        "        self.qnetwork_local.eval()\n",
        "        with torch.no_grad():\n",
        "            action_values = self.qnetwork_local(state)\n",
        "        self.qnetwork_local.train()\n",
        "\n",
        "        ''' softmax action selection (newly implementing) '''\n",
        "        #print(action_values.cpu().data.numpy().shape)\n",
        "        prob = np.nan_to_num(softmax(action_values.cpu().data.numpy()[0]/temp))\n",
        "        prob /= prob.sum()\n",
        "        return np.random.choice(self.action_size, p = prob)\n",
        "        \n",
        "        \n",
        "\n",
        "\n",
        "       \n",
        "\n",
        "    def learn(self, experiences, gamma):\n",
        "        \"\"\" +E EXPERIENCE REPLAY PRESENT \"\"\"\n",
        "        states, actions, rewards, next_states, dones = experiences\n",
        "\n",
        "        ''' Get max predicted Q values (for next states) from target model'''\n",
        "        Q_targets_next = self.qnetwork_target(next_states).detach().max(1)[0].unsqueeze(1)\n",
        "\n",
        "        ''' Compute Q targets for current states '''\n",
        "        Q_targets = rewards + (gamma * Q_targets_next * (1 - dones))\n",
        "\n",
        "        ''' Get expected Q values from local model '''\n",
        "        Q_expected = self.qnetwork_local(states).gather(1, actions)\n",
        "\n",
        "        ''' Compute loss '''\n",
        "        loss = F.mse_loss(Q_expected, Q_targets)\n",
        "\n",
        "        ''' Minimize the loss '''\n",
        "        self.optimizer.zero_grad()\n",
        "        loss.backward()\n",
        "        \n",
        "        ''' Gradiant Clipping '''\n",
        "        \"\"\" +T TRUNCATION PRESENT \"\"\"\n",
        "        for param in self.qnetwork_local.parameters():\n",
        "            param.grad.data.clamp_(-1, 1)\n",
        "            \n",
        "        self.optimizer.step()"
      ],
      "metadata": {
        "id": "UrcLIPFM36LE"
      },
      "execution_count": 54,
      "outputs": []
    },
    {
      "cell_type": "code",
      "source": [
        "''' Defining DQN Algorithm '''\n",
        "\n",
        "state_shape = env.observation_space.shape[0]\n",
        "action_shape = env.action_space.n\n",
        "\n",
        "def dqn_softmax(n_episodes=10000, max_t=1000, temp_start= 10000, temp_end=1, temp_decay=0.995):\n",
        "\n",
        "    scores = []                 \n",
        "    ''' list containing scores from each episode '''\n",
        "\n",
        "    scores_window_printing = deque(maxlen=10) \n",
        "    ''' For printing in the graph '''\n",
        "    \n",
        "    scores_window= deque(maxlen=100)  \n",
        "    ''' last 100 scores for checking if the avg is more than 195 '''\n",
        "\n",
        "    temp = temp_start                    \n",
        "    ''' initialize epsilon '''\n",
        "\n",
        "    for i_episode in range(1, n_episodes+1):\n",
        "        state = env.reset()\n",
        "        score = 0\n",
        "        for t in range(max_t):\n",
        "            action = agent.act(state, temp)\n",
        "            #print(action)\n",
        "            next_state, reward, done, _ = env.step(action)\n",
        "            agent.step(state, action, reward, next_state, done)\n",
        "            state = next_state\n",
        "            score += reward\n",
        "            if done:\n",
        "                break \n",
        "\n",
        "        scores_window.append(score)       \n",
        "        scores_window_printing.append(score)   \n",
        "        ''' save most recent score '''           \n",
        "\n",
        "        temp = temp*temp_decay\n",
        "        ''' decrease epsilon '''\n",
        "\n",
        "        print('\\rEpisode {}\\tAverage Score: {:.2f}'.format(i_episode, np.mean(scores_window)), end=\"\")  \n",
        "        \n",
        "        scores.append(np.mean(scores_window_printing))        \n",
        "        if i_episode % 100 == 0: \n",
        "           print('\\rEpisode {}\\tAverage Score: {:.2f}'.format(i_episode, np.mean(scores_window)))\n",
        "        if np.mean(scores_window)>=195.0:\n",
        "           print('\\nEnvironment solved in {:d} episodes!\\tAverage Score: {:.2f}'.format(i_episode-100, np.mean(scores_window)))\n",
        "           break\n",
        "    return [np.array(scores),i_episode-100]\n",
        "\n",
        "''' Trial run to check if algorithm runs and saves the data '''\n",
        "\n"
      ],
      "metadata": {
        "colab": {
          "base_uri": "https://localhost:8080/",
          "height": 35
        },
        "id": "_XxZyvAIKOK6",
        "outputId": "06bb78a4-c203-45de-dfc1-6de70c426aea"
      },
      "execution_count": 35,
      "outputs": [
        {
          "output_type": "execute_result",
          "data": {
            "application/vnd.google.colaboratory.intrinsic+json": {
              "type": "string"
            },
            "text/plain": [
              "' Trial run to check if algorithm runs and saves the data '"
            ]
          },
          "metadata": {},
          "execution_count": 35
        }
      ]
    },
    {
      "cell_type": "markdown",
      "source": [
        "### **Solution to Task 1c**"
      ],
      "metadata": {
        "id": "4_9XDA-LKIB1"
      }
    },
    {
      "cell_type": "code",
      "source": [
        "#running with epsilon-greedy strategy\n",
        "begin_time = datetime.datetime.now()\n",
        "agent = TutorialAgent(state_size=state_shape,action_size = action_shape,seed = 0)\n",
        "\n",
        "\n",
        "[y_axis, x_axis] = dqn()\n",
        "\n",
        "\n",
        "\n",
        "time_taken = datetime.datetime.now() - begin_time\n",
        "\n",
        "print(\"Computation Time =\" , time_taken)\n"
      ],
      "metadata": {
        "colab": {
          "base_uri": "https://localhost:8080/"
        },
        "id": "YxGQcv61KVE_",
        "outputId": "cf29bdaa-6a4f-4931-8e24-45989ef64f7e"
      },
      "execution_count": 50,
      "outputs": [
        {
          "output_type": "stream",
          "name": "stdout",
          "text": [
            "Episode 100\tAverage Score: 36.05\n",
            "Episode 200\tAverage Score: 121.77\n",
            "Episode 300\tAverage Score: 83.87\n",
            "Episode 400\tAverage Score: 96.93\n",
            "Episode 500\tAverage Score: 77.29\n",
            "Episode 600\tAverage Score: 95.80\n",
            "Episode 700\tAverage Score: 87.41\n",
            "Episode 800\tAverage Score: 133.35\n",
            "Episode 900\tAverage Score: 55.30\n",
            "Episode 1000\tAverage Score: 66.46\n",
            "Episode 1100\tAverage Score: 192.80\n",
            "Episode 1149\tAverage Score: 195.06\n",
            "Environment solved in 1049 episodes!\tAverage Score: 195.06\n",
            "Computation Time = 0:04:47.818102\n"
          ]
        }
      ]
    },
    {
      "cell_type": "code",
      "source": [
        "y_axis1 = []\n",
        "N_ep = len(y_axis)\n",
        "for i in range(N_ep):\n",
        "  idx = min(99,i)\n",
        "  y_axis1.append(np.mean(y_axis[i-idx:i+1]))\n"
      ],
      "metadata": {
        "id": "3CzyCf6rFVd_"
      },
      "execution_count": 51,
      "outputs": []
    },
    {
      "cell_type": "code",
      "source": [
        "begin_time = datetime.datetime.now()\n",
        "agent = TutorialAgent_softmax(state_size=state_shape,action_size = action_shape,seed = 0)\n",
        "\n",
        "\n",
        "[y_axis_softmax ,x_axis_softmax] = dqn_softmax()\n",
        "\n",
        "\n",
        "\n",
        "time_taken_softmax = datetime.datetime.now() - begin_time\n",
        "\n",
        "print(time_taken_softmax)"
      ],
      "metadata": {
        "colab": {
          "base_uri": "https://localhost:8080/"
        },
        "id": "7J_MMjRASBcp",
        "outputId": "0e58e404-bcc0-4f7a-b188-0934da71696c"
      },
      "execution_count": 48,
      "outputs": [
        {
          "output_type": "stream",
          "name": "stdout",
          "text": [
            "Episode 100\tAverage Score: 24.81\n",
            "Episode 200\tAverage Score: 23.71\n",
            "Episode 300\tAverage Score: 22.95\n",
            "Episode 400\tAverage Score: 21.12\n",
            "Episode 500\tAverage Score: 27.69\n",
            "Episode 600\tAverage Score: 45.54\n",
            "Episode 700\tAverage Score: 144.11\n",
            "Episode 766\tAverage Score: 195.10\n",
            "Environment solved in 666 episodes!\tAverage Score: 195.10\n",
            "0:01:56.954879\n"
          ]
        }
      ]
    },
    {
      "cell_type": "code",
      "source": [
        "y_axis2 = []\n",
        "N_ep = len(y_axis)\n",
        "for i in range(N_ep):\n",
        "  idx = min(99,i)\n",
        "  y_axis2.append(np.mean(y_axis_softmax[i-idx:i+1]))"
      ],
      "metadata": {
        "colab": {
          "base_uri": "https://localhost:8080/"
        },
        "id": "BvZO-1FcFr8_",
        "outputId": "ba340708-7859-45d9-b6f3-b43973efe62d"
      },
      "execution_count": 52,
      "outputs": [
        {
          "output_type": "stream",
          "name": "stderr",
          "text": [
            "/usr/local/lib/python3.7/dist-packages/numpy/core/fromnumeric.py:3441: RuntimeWarning: Mean of empty slice.\n",
            "  out=out, **kwargs)\n",
            "/usr/local/lib/python3.7/dist-packages/numpy/core/_methods.py:189: RuntimeWarning: invalid value encountered in double_scalars\n",
            "  ret = ret.dtype.type(ret / rcount)\n"
          ]
        }
      ]
    },
    {
      "cell_type": "markdown",
      "source": [
        "### *Comparing exploration strategies*\n",
        "Computation Time => $ϵ$-greedy = 04:48\n",
        "                 , softmax = 01:57 \n",
        "\n",
        "No. of episodes till convergence =>\t$ϵ$-greedy = 1049 , softmax = 666\n",
        "\n",
        "Average score curves (moving average over last 100 scores) have been plotted below\n",
        "\n",
        "Here, we get to see lesser number of epsiodes and lesser variance for the softmax exploration strategy. But to mark a clear winner, we need to conduct more varied experiments (subject to further tuning)"
      ],
      "metadata": {
        "id": "7HTewqcMZuEc"
      }
    },
    {
      "cell_type": "code",
      "source": [
        "plt.xlabel('Episodes')\n",
        "plt.ylabel('Average_score')\n",
        "plt.plot(np.arange(len(y_axis1)) ,y_axis1)\n",
        "plt.plot(np.arange(len(y_axis2)) ,y_axis2)\n",
        "plt.legend(['\\u03B5-greedy','softmax'])\n",
        "plt.show()"
      ],
      "metadata": {
        "colab": {
          "base_uri": "https://localhost:8080/",
          "height": 279
        },
        "id": "Ze6WeRVXM48S",
        "outputId": "da9d1050-5d70-45fa-f06e-9de1d242d37c"
      },
      "execution_count": 53,
      "outputs": [
        {
          "output_type": "display_data",
          "data": {
            "image/png": "[encoded data removed]",
            "text/plain": [
              "<Figure size 432x288 with 1 Axes>"
            ]
          },
          "metadata": {
            "needs_background": "light"
          }
        }
      ]
    },
    {
      "cell_type": "markdown",
      "source": [
        "#### **Submission Steps**\n",
        "\n",
        "#### Task 1: Add a text cell with the answer.\n",
        "\n",
        "#### Task 2: Add a code cell below task 1 solution and use 'Tutorial Agent Code' to build your new agent (with a different exploration strategy).\n",
        "\n",
        "#### Task 3: Add a code cell below task 2 solution running both the agents to solve the CartPole v-0 environment and add a new text cell below it with your inferences."
      ],
      "metadata": {
        "id": "5LBh6_lOVBdN"
      }
    },
    {
      "cell_type": "markdown",
      "source": [
        "## **Part 2: One-Step Actor-Critic Algorithm**"
      ],
      "metadata": {
        "id": "Zt6xX0njbJvS"
      }
    },
    {
      "cell_type": "markdown",
      "source": [
        "Recall: REINFORCE with baseline\n",
        "\n",
        "![image.png](data:image/png;base64,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)\n",
        "\n",
        "We can assign $b(S_t) = v_\\pi(S_t)$"
      ],
      "metadata": {
        "id": "rW2YWhHdJ4HI"
      }
    },
    {
      "cell_type": "markdown",
      "source": [
        "**Actor-Critic methods** learn both a policy $\\pi(a|s;\\theta)$ and a state-value function $v(s;w)$ simultaneously. The policy is referred to as the actor that suggests actions given a state. The estimated value function is referred to as the critic. It evaluates actions taken by the actor based on the given policy. In this exercise, both functions are approximated by feedforward neural networks. \n",
        "\n",
        "- The policy network is parametrized by $\\theta$ - it takes a state $s$ as input and outputs the probabilities $\\pi(a|s;\\theta)\\ \\forall\\ a$\n",
        "- The value network is parametrized by $w$ - it takes a state $s$ as input and outputs a scalar value associated with the state, i.e., $v(s;w)$\n",
        "- The single step TD error can be defined as follows:\n",
        "$$\\delta_t  = R_{t+1} + \\gamma v(s_{t+1};w) - v(s_t;w)$$\n",
        "- The loss function to be minimized at every step ($L_{tot}^{(t)}$) is a summation of two terms, as follows:\n",
        "$$L_{tot}^{(t)} = L_{actor}^{(t)} + L_{critic}^{(t)}$$\n",
        "where,\n",
        "$$L_{actor}^{(t)} = -\\log\\pi(a_t|s_t; \\theta)\\delta_t$$\n",
        "$$L_{critic}^{(t)} = \\delta_t^2$$\n",
        "- **NOTE: Here, weights of the first two hidden layers are shared by the policy and the value network**\n",
        "    - First two hidden layer sizes: [1024, 512]\n",
        "    - Output size of policy network: 2 (Softmax activation)\n",
        "    - Output size of value network: 1 (Linear activation)\n",
        "\n",
        "<!-- $$\\pi(a|s;\\theta) = \\phi_{\\theta}(a,s)$$ -->"
      ],
      "metadata": {
        "id": "w9WWiiNxhM7x"
      }
    },
    {
      "cell_type": "markdown",
      "source": [
        "### Initializing Actor-Critic Network"
      ],
      "metadata": {
        "id": "1eU3_IeYwN3H"
      }
    },
    {
      "cell_type": "code",
      "source": [
        "class ActorCriticModel(tf.keras.Model):\n",
        "    \"\"\"\n",
        "    Defining policy and value networkss\n",
        "    \"\"\"\n",
        "    def __init__(self, action_size, n_hidden1=1024, n_hidden2=512):\n",
        "        super(ActorCriticModel, self).__init__()\n",
        "\n",
        "        #Hidden Layer 1\n",
        "        self.fc1 = tf.keras.layers.Dense(n_hidden1, activation='relu')\n",
        "        #Hidden Layer 2\n",
        "        self.fc2 = tf.keras.layers.Dense(n_hidden2, activation='relu')\n",
        "        \n",
        "        #Output Layer for policy\n",
        "        self.pi_out = tf.keras.layers.Dense(action_size, activation='softmax')\n",
        "        #Output Layer for state-value\n",
        "        self.v_out = tf.keras.layers.Dense(1)\n",
        "\n",
        "    def call(self, state):\n",
        "        \"\"\"\n",
        "        Computes policy distribution and state-value for a given state\n",
        "        \"\"\"\n",
        "        layer1 = self.fc1(state)\n",
        "        layer2 = self.fc2(layer1)\n",
        "\n",
        "        pi = self.pi_out(layer2)\n",
        "        v = self.v_out(layer2)\n",
        "\n",
        "        return pi, v"
      ],
      "metadata": {
        "id": "MXFHQcJjVKYu"
      },
      "execution_count": 11,
      "outputs": []
    },
    {
      "cell_type": "markdown",
      "source": [
        "### Agent Class\n",
        "###**Task 2a:** Write code to compute $\\delta_t$ inside the Agent.learn() function\n",
        "\n"
      ],
      "metadata": {
        "id": "40uV1hrewVnA"
      }
    },
    {
      "cell_type": "code",
      "source": [
        "class Agent:\n",
        "    \"\"\"\n",
        "    Agent class\n",
        "    \"\"\"\n",
        "    def __init__(self, action_size, lr=0.001, gamma=0.99, seed = 85):\n",
        "        self.gamma = gamma\n",
        "        self.ac_model = ActorCriticModel(action_size=action_size)\n",
        "        self.ac_model.compile(tf.keras.optimizers.Adam(learning_rate=lr))\n",
        "        np.random.seed(seed)\n",
        "    \n",
        "    def sample_action(self, state):\n",
        "        \"\"\"\n",
        "        Given a state, compute the policy distribution over all actions and sample one action\n",
        "        \"\"\"\n",
        "        pi,_ = self.ac_model(state)\n",
        "\n",
        "        action_probabilities = tfp.distributions.Categorical(probs=pi)\n",
        "        sample = action_probabilities.sample()\n",
        "\n",
        "        return int(sample.numpy()[0])\n",
        "\n",
        "    def actor_loss(self, action, pi, delta):\n",
        "        \"\"\"\n",
        "        Compute Actor Loss\n",
        "        \"\"\"\n",
        "        return -tf.math.log(pi[0,action]) * delta\n",
        "\n",
        "    def critic_loss(self,delta):\n",
        "        \"\"\"\n",
        "        Critic loss aims to minimize TD error\n",
        "        \"\"\"\n",
        "        return delta**2\n",
        "\n",
        "    @tf.function\n",
        "    def learn(self, state, action, reward, next_state, done):\n",
        "        \"\"\"\n",
        "        For a given transition (s,a,s',r) update the paramters by computing the\n",
        "        gradient of the total loss\n",
        "        \"\"\"\n",
        "        with tf.GradientTape(persistent=True) as tape:\n",
        "            pi, V_s = self.ac_model(state)\n",
        "            _, V_s_next = self.ac_model(next_state)\n",
        "\n",
        "            ##Add this line\n",
        "            #V_s_next = tf.stop_gradient(V_s_next)\n",
        "\n",
        "            V_s = tf.squeeze(V_s)\n",
        "            V_s_next = tf.squeeze(V_s_next)\n",
        "            \n",
        "\n",
        "            #### TO DO: Write the equation for delta (TD error)\n",
        "            ## Write code below\n",
        "            delta = reward + self.gamma*V_s_next - V_s\n",
        "\n",
        "            loss_a = self.actor_loss(action, pi, delta)\n",
        "            loss_c =self.critic_loss(delta)\n",
        "            loss_total = loss_a + loss_c\n",
        "\n",
        "        gradient = tape.gradient(loss_total, self.ac_model.trainable_variables)\n",
        "        self.ac_model.optimizer.apply_gradients(zip(gradient, self.ac_model.trainable_variables))"
      ],
      "metadata": {
        "id": "9RNpp9WMfkTE"
      },
      "execution_count": 14,
      "outputs": []
    },
    {
      "cell_type": "markdown",
      "source": [
        "### Train the Network"
      ],
      "metadata": {
        "id": "bUJwznIzwBIX"
      }
    },
    {
      "cell_type": "code",
      "source": [
        " env = gym.make('CartPole-v0')\n",
        "\n",
        "#Initializing Agent\n",
        "agent = Agent(lr=1e-4, action_size=env.action_space.n)\n",
        "#Number of episodes\n",
        "episodes = 1000\n",
        "tf.compat.v1.reset_default_graph()\n",
        "\n",
        "reward_list = []\n",
        "average_reward_list = []\n",
        "begin_time = datetime.datetime.now()\n",
        "\n",
        "for ep in range(1, episodes + 1):\n",
        "    state = env.reset().reshape(1,-1)\n",
        "    done = False\n",
        "    ep_rew = 0\n",
        "    while not done:\n",
        "        action = agent.sample_action(state) ##Sample Action\n",
        "        next_state, reward, done, info = env.step(action) ##Take action\n",
        "        next_state = next_state.reshape(1,-1)\n",
        "        ep_rew += reward  ##Updating episode reward\n",
        "        agent.learn(state, action, reward, next_state, done) ##Update Parameters\n",
        "        state = next_state ##Updating State\n",
        "    reward_list.append(ep_rew)\n",
        "\n",
        "    if ep % 10 == 0:\n",
        "        avg_rew = np.mean(reward_list[-10:])\n",
        "        print('Episode ', ep, 'Reward %f' % ep_rew, 'Average Reward %f' % avg_rew)\n",
        "\n",
        "    if ep % 100:\n",
        "        avg_100 =  np.mean(reward_list[-100:])\n",
        "        if avg_100 > 195.0:\n",
        "            print('Stopped at Episode ',ep-100)\n",
        "            break\n",
        "\n",
        "time_taken = datetime.datetime.now() - begin_time\n",
        "print(time_taken)"
      ],
      "metadata": {
        "colab": {
          "base_uri": "https://localhost:8080/"
        },
        "id": "Q0SB0o_OfyGN",
        "outputId": "3b01e581-7130-4986-d4a6-d46aa60b65df"
      },
      "execution_count": 15,
      "outputs": [
        {
          "output_type": "stream",
          "name": "stdout",
          "text": [
            "Episode  10 Reward 33.000000 Average Reward 25.400000\n",
            "Episode  20 Reward 28.000000 Average Reward 25.800000\n",
            "Episode  30 Reward 52.000000 Average Reward 44.700000\n",
            "Episode  40 Reward 82.000000 Average Reward 75.800000\n",
            "Episode  50 Reward 47.000000 Average Reward 77.100000\n",
            "Episode  60 Reward 55.000000 Average Reward 76.200000\n",
            "Episode  70 Reward 63.000000 Average Reward 93.500000\n",
            "Episode  80 Reward 70.000000 Average Reward 76.300000\n",
            "Episode  90 Reward 72.000000 Average Reward 86.100000\n",
            "Episode  100 Reward 122.000000 Average Reward 108.400000\n",
            "Episode  110 Reward 70.000000 Average Reward 116.300000\n",
            "Episode  120 Reward 175.000000 Average Reward 102.300000\n",
            "Episode  130 Reward 91.000000 Average Reward 106.300000\n",
            "Episode  140 Reward 109.000000 Average Reward 101.200000\n",
            "Episode  150 Reward 180.000000 Average Reward 92.500000\n",
            "Episode  160 Reward 142.000000 Average Reward 155.200000\n",
            "Episode  170 Reward 200.000000 Average Reward 175.200000\n",
            "Episode  180 Reward 166.000000 Average Reward 181.200000\n",
            "Episode  190 Reward 200.000000 Average Reward 182.000000\n",
            "Episode  200 Reward 200.000000 Average Reward 200.000000\n",
            "Episode  210 Reward 200.000000 Average Reward 200.000000\n",
            "Episode  220 Reward 200.000000 Average Reward 194.100000\n",
            "Episode  230 Reward 200.000000 Average Reward 194.800000\n",
            "Episode  240 Reward 200.000000 Average Reward 200.000000\n",
            "Episode  250 Reward 200.000000 Average Reward 200.000000\n",
            "Episode  260 Reward 112.000000 Average Reward 167.400000\n",
            "Episode  270 Reward 200.000000 Average Reward 140.300000\n",
            "Episode  280 Reward 200.000000 Average Reward 169.500000\n",
            "Episode  290 Reward 139.000000 Average Reward 106.400000\n",
            "Episode  300 Reward 148.000000 Average Reward 135.400000\n",
            "Episode  310 Reward 200.000000 Average Reward 199.200000\n",
            "Episode  320 Reward 200.000000 Average Reward 193.700000\n",
            "Episode  330 Reward 200.000000 Average Reward 185.300000\n",
            "Episode  340 Reward 200.000000 Average Reward 188.500000\n",
            "Episode  350 Reward 200.000000 Average Reward 200.000000\n",
            "Episode  360 Reward 200.000000 Average Reward 200.000000\n",
            "Episode  370 Reward 200.000000 Average Reward 200.000000\n",
            "Episode  380 Reward 200.000000 Average Reward 200.000000\n",
            "Episode  390 Reward 200.000000 Average Reward 200.000000\n",
            "Stopped at Episode  297\n",
            "0:09:29.786900\n"
          ]
        }
      ]
    },
    {
      "cell_type": "markdown",
      "source": [
        "### **Task 2b**: Plot total reward curve\n",
        "In the cell below, write code to plot the total reward averaged over 100 episodes (moving average)"
      ],
      "metadata": {
        "id": "twYwsX7Hu1V1"
      }
    },
    {
      "cell_type": "code",
      "source": [
        "y_axis = []\n",
        "N_ep = len(reward_list)\n",
        "for i in range(N_ep):\n",
        "  idx = min(99,i)\n",
        "  y_axis.append(np.mean(reward_list[i-idx:i+1]))\n"
      ],
      "metadata": {
        "id": "H9nfX3KG_F_b"
      },
      "execution_count": 24,
      "outputs": []
    },
    {
      "cell_type": "code",
      "source": [
        "### Plot of total reward vs episode\n",
        "## Write Code Below\n",
        "plt.plot(np.arange(len(reward_list)),y_axis)\n",
        "plt.ylabel('Total Reward')\n",
        "plt.xlabel('Episodes')\n",
        "plt.show()\n",
        "\n"
      ],
      "metadata": {
        "colab": {
          "base_uri": "https://localhost:8080/",
          "height": 279
        },
        "id": "wOZzkLIgvHgS",
        "outputId": "6ba80211-c5d4-4832-8296-9906dfdf7a69"
      },
      "execution_count": 25,
      "outputs": [
        {
          "output_type": "display_data",
          "data": {
            "image/png": "[encoded data removed]",
            "text/plain": [
              "<Figure size 432x288 with 1 Axes>"
            ]
          },
          "metadata": {
            "needs_background": "light"
          }
        }
      ]
    },
    {
      "cell_type": "markdown",
      "source": [
        "### Code for rendering ([source](https://colab.research.google.com/drive/1D6bvoEVukil7DUaJU465vtfuDgLDbOY7#scrollTo=qbIMMkfmRHyC))"
      ],
      "metadata": {
        "id": "UjC1dxbuuNL2"
      }
    },
    {
      "cell_type": "code",
      "source": [
        "# Render an episode and save as a GIF file\n",
        "\n",
        "display = Display(visible=0, size=(400, 300))\n",
        "display.start()\n",
        "\n",
        "\n",
        "def render_episode(env: gym.Env, model: tf.keras.Model, max_steps: int): \n",
        "  screen = env.render(mode='rgb_array')\n",
        "  im = Image.fromarray(screen)\n",
        "\n",
        "  images = [im]\n",
        "  \n",
        "  state = tf.constant(env.reset(), dtype=tf.float32)\n",
        "  for i in range(1, max_steps + 1):\n",
        "    state = tf.expand_dims(state, 0)\n",
        "    action_probs, _ = model(state)\n",
        "    action = np.argmax(np.squeeze(action_probs))\n",
        "    state, _, done, _ = env.step(action)\n",
        "    state = tf.constant(state, dtype=tf.float32)\n",
        "\n",
        "    # Render screen every 10 steps\n",
        "    if i % 10 == 0:\n",
        "      screen = env.render(mode='rgb_array')\n",
        "      images.append(Image.fromarray(screen))\n",
        "  \n",
        "    if done:\n",
        "      break\n",
        "  \n",
        "  return images\n",
        "\n",
        "\n",
        "# Save GIF image\n",
        "images = render_episode(env, agent.ac_model, 200)\n",
        "image_file = 'cartpole-v0.gif'\n",
        "# loop=0: loop forever, duration=1: play each frame for 1ms\n",
        "images[0].save(\n",
        "    image_file, save_all=True, append_images=images[1:], loop=0, duration=1)"
      ],
      "metadata": {
        "id": "D2cisMBqgg9Y"
      },
      "execution_count": 26,
      "outputs": []
    },
    {
      "cell_type": "code",
      "source": [
        "import tensorflow_docs.vis.embed as embed\n",
        "embed.embed_file(image_file)"
      ],
      "metadata": {
        "colab": {
          "base_uri": "https://localhost:8080/",
          "height": 421
        },
        "id": "2BT7j10-9zms",
        "outputId": "65afd0ee-1b2e-43e9-8454-d339bfe9a03b"
      },
      "execution_count": 27,
      "outputs": [
        {
          "output_type": "execute_result",
          "data": {
            "text/html": [
              "<img src=\"data:image/gif;base64,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\"/>"
            ],
            "text/plain": [
              "<IPython.core.display.HTML object>"
            ]
          },
          "metadata": {},
          "execution_count": 27
        }
      ]
    },
    {
      "cell_type": "code",
      "source": [
        ""
      ],
      "metadata": {
        "id": "pgDnDpjC_d9q"
      },
      "execution_count": null,
      "outputs": []
    }
  ]
}