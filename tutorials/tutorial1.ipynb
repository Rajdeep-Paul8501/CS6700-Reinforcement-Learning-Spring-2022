{
  "cells": [
    {
      "cell_type": "markdown",
      "source": [
        "In this tutorial, we will cover how to import and run an environment for RL training using OpenAI Gym. We will also look at how well an RL agent trained on this environment to do a specific task performs, compared to an agent taking random actions in the environment.\n",
        "\n"
      ],
      "metadata": {
        "id": "MaqQyaO64c4p"
      },
      "id": "MaqQyaO64c4p"
    },
    {
      "cell_type": "code",
      "source": [
        "#Installing packages for rendering the game on Colab\n",
        "!pip install gym pyvirtualdisplay > /dev/null 2>&1\n",
        "!apt-get install -y xvfb python-opengl ffmpeg > /dev/null 2>&1\n",
        "!apt-get update > /dev/null 2>&1\n",
        "!apt-get install cmake > /dev/null 2>&1\n",
        "!pip install --upgrade setuptools 2>&1\n",
        "!pip install ez_setup > /dev/null 2>&1\n",
        "!pip install gym[atari] > /dev/null 2>&1"
      ],
      "metadata": {
        "id": "qUmJWFY9qypV",
        "colab": {
          "base_uri": "https://localhost:8080/"
        },
        "outputId": "affd8092-1d89-41df-8228-586ce20d383a"
      },
      "id": "qUmJWFY9qypV",
      "execution_count": 12,
      "outputs": [
        {
          "output_type": "stream",
          "name": "stdout",
          "text": [
            "Requirement already satisfied: setuptools in /usr/local/lib/python3.7/dist-packages (60.8.1)\n"
          ]
        }
      ]
    },
    {
      "cell_type": "code",
      "source": [
        "import numpy as np\n",
        "import random\n",
        "import torch\n",
        "import torch.nn as nn  \n",
        "import torch.nn.functional as F\n",
        "from collections import namedtuple, deque\n",
        "import torch.optim as optim\n",
        "import datetime\n",
        "import gym\n",
        "from gym.wrappers import Monitor\n",
        "import glob\n",
        "import io\n",
        "import base64\n",
        "import matplotlib.pyplot as plt\n",
        "from IPython.display import HTML\n",
        "from pyvirtualdisplay import Display\n",
        "from IPython import display as ipythondisplay"
      ],
      "metadata": {
        "id": "zu1cshEw7hKu"
      },
      "id": "zu1cshEw7hKu",
      "execution_count": 13,
      "outputs": []
    },
    {
      "cell_type": "markdown",
      "source": [
        "# **Setting up the environment**"
      ],
      "metadata": {
        "id": "wgxkZn9t5OaU"
      },
      "id": "wgxkZn9t5OaU"
    },
    {
      "cell_type": "markdown",
      "source": [
        "Any new RL algorithm that is developed will need to be benchmarked and compared against state-of-the-art RL algorithms. A variety of benchmarks exist for various types of tasks and various specific domains eg. robot locomotion. \n",
        "\n",
        "While the final aim is to run such algorithms in the real world eg. controlling a quadruped robot to jump over obstacles, for practicality and reduced costs during development, it is more convenient to use benchmarks that allow virtual simulations of these real-world tasks. A few examples of these are MuJoCo (Multi-Joint dynamics with Contact), StarCraft2 and Atari.\n",
        "\n",
        "OpenAI Gym aims to provide an easy-to-setup general-intelligence benchmark with a wide variety of different environments. The goal is to standardize how environments are defined in AI research publications so that published research becomes more easily reproducible. "
      ],
      "metadata": {
        "id": "HlD6Nivn6I4c"
      },
      "id": "HlD6Nivn6I4c"
    },
    {
      "cell_type": "markdown",
      "source": [
        "**Import OpenAI gym**"
      ],
      "metadata": {
        "id": "_DtMh6tl5Yni"
      },
      "id": "_DtMh6tl5Yni"
    },
    {
      "cell_type": "code",
      "execution_count": 14,
      "id": "213553cd",
      "metadata": {
        "id": "213553cd"
      },
      "outputs": [],
      "source": [
        "import gym"
      ]
    },
    {
      "cell_type": "markdown",
      "source": [
        "![rl.png](data:image/png;base64,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)\n",
        "\n"
      ],
      "metadata": {
        "id": "kryDSmG77kk4"
      },
      "id": "kryDSmG77kk4"
    },
    {
      "cell_type": "markdown",
      "source": [
        "Consider an RL agent that interacts with its environment in discrete timesteps. For every discrete time step, the agent perceives the state **s<sub>t</sub>** of its environment and chooses an action **a<sub>t</sub>** according to its **policy**. The agent then receives a reward **r<sub>t+1</sub>** for its action and the environment transitioned into the next state **s<sub>t+1</sub>**. We now show how to set up such an environment using OpenAI gym\n",
        "\n",
        "Some helpful terminology:\n",
        "* **Episode** - A collection of steps that terminates when the agent fails to achieve the goal, or the episode reaches the maximum number of allowed steps.\n",
        "* **Render** - Gym can render one frame for display after each episode.\n",
        "* **Nondeterministic** - For some environments, randomness is a factor in deciding what effects actions have on reward and changes to the observation space."
      ],
      "metadata": {
        "id": "mwpIjXIZAOhL"
      },
      "id": "mwpIjXIZAOhL"
    },
    {
      "cell_type": "code",
      "source": [
        "env = gym.make('CartPole-v1')"
      ],
      "metadata": {
        "id": "QLtauTHkBhYb"
      },
      "id": "QLtauTHkBhYb",
      "execution_count": 15,
      "outputs": []
    },
    {
      "cell_type": "markdown",
      "source": [
        "We just created an instance of the CartPole-v1 environment. \n",
        "\n",
        "A pole is attached by an un-actuated joint to a cart, which moves along a frictionless track. The system is controlled by applying a force of +1 or -1 to the cart. The pendulum starts upright, and the goal is to prevent it from falling over. A reward of +1 is provided for every timestep that the pole remains upright. The episode ends when the pole is more than 15 degrees from vertical, or the cart moves more than 2.4 units from the center.\n",
        "\n",
        "\n",
        "Now let's take a deeper look at some of the environment specifics:\n",
        "* **action space**: What actions can we take on the environment, at each step/episode, to alter the environment.\n",
        "* **observation space**: What is the current state of the portion of the environment that we can observe.\n"
      ],
      "metadata": {
        "id": "-o4AVRvGBiod"
      },
      "id": "-o4AVRvGBiod"
    },
    {
      "cell_type": "code",
      "source": [
        "def query_environment(env, name):\n",
        "  spec = gym.spec(name)\n",
        "  print(f\"Action Space: {env.action_space}\")\n",
        "  print(f\"Observation Space: {env.observation_space}\")\n",
        "  print(f\"Max Episode Steps: {spec.max_episode_steps}\")\n",
        "  print(f\"Nondeterministic: {spec.nondeterministic}\")\n",
        "  print(f\"Reward Range: {env.reward_range}\")"
      ],
      "metadata": {
        "id": "_u_3pJGqCb9e"
      },
      "id": "_u_3pJGqCb9e",
      "execution_count": 16,
      "outputs": []
    },
    {
      "cell_type": "code",
      "source": [
        "query_environment(env, 'CartPole-v1')"
      ],
      "metadata": {
        "id": "RmT3G-SIChK3",
        "colab": {
          "base_uri": "https://localhost:8080/"
        },
        "outputId": "d9bb4e3d-c866-458a-87cf-407c40a30841"
      },
      "id": "RmT3G-SIChK3",
      "execution_count": 17,
      "outputs": [
        {
          "output_type": "stream",
          "name": "stdout",
          "text": [
            "Action Space: Discrete(2)\n",
            "Observation Space: Box(-3.4028234663852886e+38, 3.4028234663852886e+38, (4,), float32)\n",
            "Max Episode Steps: 500\n",
            "Nondeterministic: False\n",
            "Reward Range: (-inf, inf)\n"
          ]
        }
      ]
    },
    {
      "cell_type": "markdown",
      "source": [
        " The environment has an observation space of 4 continuous numbers:\n",
        "\n",
        "* Cart Position\n",
        "* Cart Velocity\n",
        "* Pole Angle\n",
        "* Pole Velocity At Tip\n",
        "\n",
        "To achieve this goal, the agent can take the following actions:\n",
        "\n",
        "* Push cart to the left\n",
        "* Push cart to the right\n"
      ],
      "metadata": {
        "id": "9I8uiHsAESy7"
      },
      "id": "9I8uiHsAESy7"
    },
    {
      "cell_type": "markdown",
      "source": [
        "# **Interacting with the environment**"
      ],
      "metadata": {
        "id": "YzCMPGXmFmvy"
      },
      "id": "YzCMPGXmFmvy"
    },
    {
      "cell_type": "markdown",
      "source": [
        "To make things clearer, let us now see how the agent can interact with the environment:"
      ],
      "metadata": {
        "id": "hL77-vqgFrQx"
      },
      "id": "hL77-vqgFrQx"
    },
    {
      "cell_type": "markdown",
      "source": [
        "**Getting the observation**\n",
        "\n",
        "(Every episode of training starts with env.reset(), to reset the simulation to the starting state or states)"
      ],
      "metadata": {
        "id": "a1TzPnj3Eu1i"
      },
      "id": "a1TzPnj3Eu1i"
    },
    {
      "cell_type": "code",
      "source": [
        "observation = env.reset()\n",
        "print(\"Observation:\", observation)"
      ],
      "metadata": {
        "id": "if-9-u39Eu9v",
        "colab": {
          "base_uri": "https://localhost:8080/"
        },
        "outputId": "244a96ce-e998-4899-a97b-16cea76251fa"
      },
      "id": "if-9-u39Eu9v",
      "execution_count": 18,
      "outputs": [
        {
          "output_type": "stream",
          "name": "stdout",
          "text": [
            "Observation: [0.01869663 0.04877579 0.04646226 0.00747449]\n"
          ]
        }
      ]
    },
    {
      "cell_type": "markdown",
      "source": [
        "**Choosing an action**"
      ],
      "metadata": {
        "id": "GqCkMVE-E2a5"
      },
      "id": "GqCkMVE-E2a5"
    },
    {
      "cell_type": "code",
      "source": [
        "action = env.action_space.sample()\n",
        "print(\"Action chosen:\",action)"
      ],
      "metadata": {
        "id": "xE5sKXohE3iV",
        "colab": {
          "base_uri": "https://localhost:8080/"
        },
        "outputId": "f34b6323-0e49-445e-b35b-cf2793616d9c"
      },
      "id": "xE5sKXohE3iV",
      "execution_count": 19,
      "outputs": [
        {
          "output_type": "stream",
          "name": "stdout",
          "text": [
            "Action chosen: 1\n"
          ]
        }
      ]
    },
    {
      "cell_type": "markdown",
      "source": [
        "**Performing an environment step**"
      ],
      "metadata": {
        "id": "Qi_dW1M7E3re"
      },
      "id": "Qi_dW1M7E3re"
    },
    {
      "cell_type": "code",
      "source": [
        "next_observation, reward, done, _ = env.step(action) \n",
        "print(\"Next observation\", next_observation)\n",
        "print(\"Reward obtained\", reward)\n",
        "print(\"Does the state-action pair lead to a terminal state?\", done)"
      ],
      "metadata": {
        "id": "K9iI68gyE69y",
        "colab": {
          "base_uri": "https://localhost:8080/"
        },
        "outputId": "32106e74-67db-4b71-ad41-e49b640358a1"
      },
      "id": "K9iI68gyE69y",
      "execution_count": 20,
      "outputs": [
        {
          "output_type": "stream",
          "name": "stdout",
          "text": [
            "Next observation [ 0.01967215  0.24320167  0.04661175 -0.27019462]\n",
            "Reward obtained 1.0\n",
            "Does the state-action pair lead to a terminal state? False\n"
          ]
        }
      ]
    },
    {
      "cell_type": "markdown",
      "source": [
        "**A few functions for rendering an episode on Google Colab and plotting rewards**"
      ],
      "metadata": {
        "id": "M4_e4XUrGyGj"
      },
      "id": "M4_e4XUrGyGj"
    },
    {
      "cell_type": "code",
      "source": [
        "\n",
        "display = Display(visible=0, size=(1400, 900))\n",
        "display.start()\n",
        "\n",
        "\"\"\"\n",
        "Utility functions to enable video recording of gym environment \n",
        "and displaying it.\n",
        "To enable video, just do \"env = wrap_env(env)\"\"\n",
        "\"\"\"\n",
        "\n",
        "def show_video():\n",
        "  mp4list = glob.glob('video/*.mp4')\n",
        "  if len(mp4list) > 0:\n",
        "    mp4 = mp4list[0]\n",
        "    video = io.open(mp4, 'r+b').read()\n",
        "    encoded = base64.b64encode(video)\n",
        "    ipythondisplay.display(HTML(data='''<video alt=\"test\" autoplay \n",
        "                loop controls style=\"height: 400px;\">\n",
        "                <source src=\"data:video/mp4;base64,{0}\" type=\"video/mp4\" />\n",
        "             </video>'''.format(encoded.decode('ascii'))))\n",
        "  else: \n",
        "    print(\"Could not find video\")\n",
        "    \n",
        "\n",
        "def wrap_env(env):\n",
        "  env = Monitor(env, './video', force=True)\n",
        "  return env\n",
        "\n",
        "def plot_rewards(rewards, q, title):\n",
        "\n",
        "    avg_rew = []\n",
        "    j = 0\n",
        "    \n",
        "    while(j < len(rewards) - q):\n",
        "      \n",
        "      x = rewards[j:j+q]\n",
        "      sum1 = np.sum(np.array(x)) /q\n",
        "      avg_rew.append(sum1)\n",
        "      j = j+1\n",
        "\n",
        "\n",
        "    plt.suptitle(title)\n",
        "    plt.plot(avg_rew)\n",
        "    plt.xlabel('Episode')\n",
        "    plt.ylabel('Reward')\n",
        "\n",
        "    plt.show()  "
      ],
      "metadata": {
        "id": "1P-g1WjUG1XN"
      },
      "id": "1P-g1WjUG1XN",
      "execution_count": 21,
      "outputs": []
    },
    {
      "cell_type": "markdown",
      "source": [
        "**Task 1: Putting it all together - Episodes with a random agent**\n",
        "\n"
      ],
      "metadata": {
        "id": "FMzWrnx-E7q6"
      },
      "id": "FMzWrnx-E7q6"
    },
    {
      "cell_type": "markdown",
      "source": [
        "**Part 1**: Your task will be to run an episode of simulation with an agent following a random policy. After every 10 steps of the episode, **you are to print the step reward r as well as the cumulative reward from the beginning of the episode**. Complete the code and run the function to render the episode. The function returns the cumulative reward."
      ],
      "metadata": {
        "id": "lxMzQlghx4mY"
      },
      "id": "lxMzQlghx4mY"
    },
    {
      "cell_type": "code",
      "source": [
        "def simulate_episode(env, wrap = False, render = False, video = False, log = False): #if log==True, print the step reward and cumulative reward\n",
        "    \n",
        "    if(wrap):\n",
        "      env = wrap_env(env) #This is purely for rendering\n",
        "    \n",
        "    observation = env.reset() #initial observation\n",
        "    cumulative_reward = 0\n",
        "    max_steps = gym.spec('CartPole-v1').max_episode_steps\n",
        "    steps = 0\n",
        "\n",
        "    while True:\n",
        "\n",
        "        #Rendering function  \n",
        "        if(render):\n",
        "          env.render()\n",
        "        action = env.action_space.sample()\n",
        "        next_observation, reward, done, _ = env.step(action)\n",
        "\n",
        "        cumulative_reward += reward\n",
        "        steps += 1\n",
        "        if(steps % 10 == 0 and log == True):\n",
        "          print('Reward', reward)\n",
        "          print('Cumulative Reward', cumulative_reward)\n",
        "        if(done or steps > 500):\n",
        "          break\n",
        "        \n",
        "        #take an action, take a step and continue the episode if the next state is not terminal. Print required data every 10 steps\n",
        "\n",
        "\n",
        "                \n",
        "    env.close()\n",
        "    if(video):\n",
        "      show_video()\n",
        "    return cumulative_reward  "
      ],
      "metadata": {
        "id": "9Gu80n-rE-8C"
      },
      "id": "9Gu80n-rE-8C",
      "execution_count": 24,
      "outputs": []
    },
    {
      "cell_type": "code",
      "source": [
        "total_rew = simulate_episode(env, wrap = True, render = True, video = True, log = True)\n",
        "print(\"Cumulative reward on episode termination\", total_rew)"
      ],
      "metadata": {
        "id": "NuW7-rLubiH-",
        "colab": {
          "base_uri": "https://localhost:8080/",
          "height": 508
        },
        "outputId": "a99ed9f8-3710-4999-eec9-dbad35cf8b70"
      },
      "id": "NuW7-rLubiH-",
      "execution_count": 25,
      "outputs": [
        {
          "output_type": "stream",
          "name": "stdout",
          "text": [
            "Reward 1.0\n",
            "Cumulative Reward 10.0\n",
            "Reward 1.0\n",
            "Cumulative Reward 20.0\n"
          ]
        },
        {
          "output_type": "display_data",
          "data": {
            "text/html": [
              "<video alt=\"test\" autoplay \n",
              "                loop controls style=\"height: 400px;\">\n",
              "                <source src=\"data:video/mp4;base64,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\" type=\"video/mp4\" />\n",
              "             </video>"
            ],
            "text/plain": [
              "<IPython.core.display.HTML object>"
            ]
          },
          "metadata": {}
        },
        {
          "output_type": "stream",
          "name": "stdout",
          "text": [
            "Cumulative reward on episode termination 21.0\n"
          ]
        }
      ]
    },
    {
      "cell_type": "markdown",
      "source": [
        "**Part 2**: Using the function you just wrote, run a loop to simulate 1000 episodes of training and plot the cumulative reward vs episodes graph"
      ],
      "metadata": {
        "id": "kIm6SfOxIpvq"
      },
      "id": "kIm6SfOxIpvq"
    },
    {
      "cell_type": "code",
      "source": [
        "rewards = []\n",
        "ep = 0\n",
        "while(ep<1000):\n",
        "  rewards.append(simulate_episode(env,wrap = False, render = False , video = False, log = False))\n",
        "  ep += 1\n",
        "   \n",
        "env.close()"
      ],
      "metadata": {
        "id": "HW4Csz73IvIb"
      },
      "id": "HW4Csz73IvIb",
      "execution_count": 26,
      "outputs": []
    },
    {
      "cell_type": "code",
      "source": [
        "plt.figure(figsize=(10, 5))\n",
        "plot_rewards(rewards, 1, \"Random Agent\")"
      ],
      "metadata": {
        "id": "IoFS6sSGLLMP",
        "colab": {
          "base_uri": "https://localhost:8080/",
          "height": 370
        },
        "outputId": "9f595ef0-b056-42bf-d852-66302f1ef4c7"
      },
      "id": "IoFS6sSGLLMP",
      "execution_count": 27,
      "outputs": [
        {
          "output_type": "display_data",
          "data": {
            "image/png": "[encoded data removed]",
            "text/plain": [
              "<Figure size 720x360 with 1 Axes>"
            ]
          },
          "metadata": {
            "needs_background": "light"
          }
        }
      ]
    },
    {
      "cell_type": "markdown",
      "source": [
        "# **Deep RL Agent**"
      ],
      "metadata": {
        "id": "CmTfec97NO5l"
      },
      "id": "CmTfec97NO5l"
    },
    {
      "cell_type": "markdown",
      "source": [
        "Now that we know how to import an environment and use it, let us see how a deep RL agent trained on this task performs.\n",
        "\n",
        "Specifically, we use a Deep Q Network (DQN) to train our CartPole agent to navigate towards its goal. Broadly speaking, every RL algorithm performs an agent in two stages performed repeatedly till the task is performed optimally:\n",
        "\n",
        "\n",
        "\n",
        "1.   Collect episodes of data by interacting with the environment.\n",
        "2.   Learn to perform the task better, using the collected data.\n",
        "\n",
        "\n",
        "\n",
        "We do not get into further specifics of training the agent yet. This will covered in detail in future tutorials\n"
      ],
      "metadata": {
        "id": "Of5IWSAoHOiQ"
      },
      "id": "Of5IWSAoHOiQ"
    },
    {
      "cell_type": "markdown",
      "source": [
        "**How well does the DQN agent perform on the same task?**"
      ],
      "metadata": {
        "id": "LZQeH0ZcDG-6"
      },
      "id": "LZQeH0ZcDG-6"
    },
    {
      "cell_type": "code",
      "source": [
        "BUFFER_SIZE = int(1e6)  # replay buffer size\n",
        "BATCH_SIZE = 64         # minibatch size\n",
        "GAMMA = 0.99            # discount factor\n",
        "LR = 5e-4             # learning rate \n",
        "UPDATE_EVERY = 10        # how often to update the network (When Q target is present)\n",
        "device = torch.device(\"cuda:0\" if torch.cuda.is_available() else \"cpu\")"
      ],
      "metadata": {
        "id": "S4_QoylQOoUG"
      },
      "id": "S4_QoylQOoUG",
      "execution_count": 28,
      "outputs": []
    },
    {
      "cell_type": "code",
      "source": [
        "### Q NETWORK ARCHITECTURE\n",
        "'''\n",
        "QNetwork:\n",
        "Input Layer - 4 nodes (State Shape) \\\n",
        "Hidden Layer 1 - 64 nodes \\\n",
        "Hidden Layer 2 - 64 nodes \\\n",
        "Output Layer - 2 nodes (Action Space) \\\n",
        "Optimizer - zero_grad()\n",
        "'''\n",
        "class QNetwork(nn.Module):\n",
        "    \"\"\"Actor (Policy) Model.\"\"\"\n",
        "\n",
        "    def __init__(self, state_size, action_size, seed, fc1_units=64, fc2_units=64):\n",
        "        \"\"\"Initialize parameters and build model.\n",
        "        Params\n",
        "        ======\n",
        "            state_size (int): Dimension of each state\n",
        "            action_size (int): Dimension of each action\n",
        "            seed (int): Random seed\n",
        "            fc1_units (int): Number of nodes in first hidden layer\n",
        "            fc2_units (int): Number of nodes in second hidden layer\n",
        "        \"\"\"\n",
        "        super(QNetwork, self).__init__()\n",
        "        self.seed = torch.manual_seed(seed)\n",
        "        self.fc1 = nn.Linear(state_size, fc1_units)\n",
        "        self.fc2 = nn.Linear(fc1_units, fc2_units)\n",
        "        self.fc3 = nn.Linear(fc2_units, action_size)\n",
        "\n",
        "    def forward(self, state):\n",
        "        \"\"\"Build a network that maps state -> action values.\"\"\"\n",
        "        x = F.relu(self.fc1(state))\n",
        "        x = F.relu(self.fc2(x))\n",
        "        return self.fc3(x)"
      ],
      "metadata": {
        "id": "BKRAM4xjS7X5"
      },
      "id": "BKRAM4xjS7X5",
      "execution_count": 29,
      "outputs": []
    },
    {
      "cell_type": "code",
      "source": [
        "class Agent():\n",
        "    \"\"\"\n",
        "    CASE 1 -\n",
        "    +Q => Q-Targets\n",
        "    +E => Experience Replay\n",
        "    +T => Truncation\n",
        "    \"\"\"\n",
        "\n",
        "    def __init__(self, state_size, action_size, seed):\n",
        "\n",
        "        # Agent Environment Interaction\n",
        "        self.state_size = state_size\n",
        "        self.action_size = action_size\n",
        "        self.seed = random.seed(seed)\n",
        "\n",
        "        # Q-Network\n",
        "        self.qnetwork_local = QNetwork(state_size, action_size, seed).to(device)\n",
        "        self.qnetwork_target = QNetwork(state_size, action_size, seed).to(device)\n",
        "        self.optimizer = optim.Adam(self.qnetwork_local.parameters(), lr=LR)\n",
        "\n",
        "        # Replay memory\n",
        "        self.memory = ReplayBuffer(action_size, BUFFER_SIZE, BATCH_SIZE, seed)\n",
        "\n",
        "        # Initialize time step (for updating every UPDATE_EVERY steps)           -Needed for Q Targets\n",
        "        self.t_step = 0\n",
        "    \n",
        "    def step(self, state, action, reward, next_state, done):\n",
        "\n",
        "        # Save experience in replay memory\n",
        "        self.memory.add(state, action, reward, next_state, done)\n",
        "        \n",
        "        # If enough samples are available in memory, get random subset and learn\n",
        "        if len(self.memory) >= BATCH_SIZE:\n",
        "            experiences = self.memory.sample()\n",
        "            self.learn(experiences, GAMMA)\n",
        "\n",
        "        \"\"\" +Q TARGETS PRESENT \"\"\"\n",
        "        # Updating the Network every 'UPDATE_EVERY' steps taken       \n",
        "        self.t_step = (self.t_step + 1) % UPDATE_EVERY\n",
        "        if self.t_step == 0:\n",
        "\n",
        "            self.qnetwork_target.load_state_dict(self.qnetwork_local.state_dict())\n",
        "\n",
        "    def act(self, state, eps=0.):\n",
        "\n",
        "        state = torch.from_numpy(state).float().unsqueeze(0).to(device)\n",
        "        self.qnetwork_local.eval()\n",
        "        with torch.no_grad():\n",
        "            action_values = self.qnetwork_local(state)\n",
        "        self.qnetwork_local.train()\n",
        "\n",
        "        # Epsilon-greedy action selection\n",
        "        if random.random() > eps:\n",
        "            return np.argmax(action_values.cpu().data.numpy())\n",
        "        else:\n",
        "            return random.choice(np.arange(self.action_size))\n",
        "\n",
        "\n",
        "    def learn(self, experiences, gamma):\n",
        "        \"\"\" +E EXPERIENCE REPLAY PRESENT \"\"\"\n",
        "        states, actions, rewards, next_states, dones = experiences\n",
        "\n",
        "        # Get max predicted Q values (for next states) from target model\n",
        "        Q_targets_next = self.qnetwork_target(next_states).detach().max(1)[0].unsqueeze(1)\n",
        "        # Compute Q targets for current states \n",
        "        Q_targets = rewards + (gamma * Q_targets_next * (1 - dones))\n",
        "\n",
        "        # Get expected Q values from local model\n",
        "        Q_expected = self.qnetwork_local(states).gather(1, actions)\n",
        "\n",
        "        # Compute loss\n",
        "        \n",
        "\n",
        "        # Minimize the loss\n",
        "        self.optimizer.zero_grad()\n",
        "        loss = F.mse_loss(Q_expected, Q_targets)\n",
        "        loss.backward()\n",
        "        \n",
        "        #Gradient Clipping\n",
        "        \"\"\" +T TRUNCATION PRESENT \"\"\"\n",
        "        # for param in self.qnetwork_local.parameters():\n",
        "        #     param.grad.data.clamp_(-1, 1)\n",
        "            \n",
        "        self.optimizer.step()"
      ],
      "metadata": {
        "id": "zSeYYo6OS79L"
      },
      "id": "zSeYYo6OS79L",
      "execution_count": 30,
      "outputs": []
    },
    {
      "cell_type": "code",
      "source": [
        "# REPLAY BUFFER\n",
        "\n",
        "class ReplayBuffer:\n",
        "    \"\"\"Fixed-size buffer to store experience tuples.\"\"\"\n",
        "\n",
        "    def __init__(self, action_size, buffer_size, batch_size, seed):\n",
        "        \"\"\"Initialize a ReplayBuffer object.\n",
        "\n",
        "        Params\n",
        "        ======\n",
        "            action_size (int): dimension of each action\n",
        "            buffer_size (int): maximum size of buffer\n",
        "            batch_size (int): size of each training batch\n",
        "            seed (int): random seed\n",
        "        \"\"\"\n",
        "        self.action_size = action_size\n",
        "        self.memory = deque(maxlen=buffer_size)  \n",
        "        self.batch_size = batch_size\n",
        "        self.experience = namedtuple(\"Experience\", field_names=[\"state\", \"action\", \"reward\", \"next_state\", \"done\"])\n",
        "        self.seed = random.seed(seed)\n",
        "    \n",
        "    def add(self, state, action, reward, next_state, done):\n",
        "        \"\"\"Add a new experience to memory.\"\"\"\n",
        "        e = self.experience(state, action, reward, next_state, done)\n",
        "        self.memory.append(e)\n",
        "    \n",
        "    def sample(self):\n",
        "        \"\"\"Randomly sample a batch of experiences from memory.\"\"\"\n",
        "        experiences = random.sample(self.memory, k=self.batch_size)\n",
        "\n",
        "        states = torch.from_numpy(np.vstack([e.state for e in experiences if e is not None])).float().to(device)\n",
        "        actions = torch.from_numpy(np.vstack([e.action for e in experiences if e is not None])).long().to(device)\n",
        "        rewards = torch.from_numpy(np.vstack([e.reward for e in experiences if e is not None])).float().to(device)\n",
        "        next_states = torch.from_numpy(np.vstack([e.next_state for e in experiences if e is not None])).float().to(device)\n",
        "        dones = torch.from_numpy(np.vstack([e.done for e in experiences if e is not None]).astype(np.uint8)).float().to(device)\n",
        "  \n",
        "        return (states, actions, rewards, next_states, dones)\n",
        "\n",
        "    def __len__(self):\n",
        "        \"\"\"Return the current size of internal memory.\"\"\"\n",
        "        return len(self.memory)"
      ],
      "metadata": {
        "id": "4Ux80vI_S-pd"
      },
      "id": "4Ux80vI_S-pd",
      "execution_count": 31,
      "outputs": []
    },
    {
      "cell_type": "code",
      "source": [
        "def train(n_episodes=2000, max_t=1000, eps_start=1.0, eps_end=0.05, eps_decay=0.995):\n",
        "\n",
        "    scores = []                 # list containing scores from each episode\n",
        "    rewards = []\n",
        "    scores_window_printing = deque(maxlen=10) # For printing in the graph\n",
        "    scores_window= deque(maxlen=100)  # last 100 scores for checking if the avg is more than 195\n",
        "    eps = eps_start                    # initialize epsilon\n",
        "    for i_episode in range(1, n_episodes+1):\n",
        "        state = env.reset()\n",
        "        score = 0\n",
        "        for t in range(max_t):\n",
        "            action = agent.act(state, eps)\n",
        "            next_state, reward, done, _ = env.step(action)\n",
        "            agent.step(state, action, reward, next_state, done)\n",
        "            state = next_state\n",
        "            score += reward\n",
        "            if done:\n",
        "                break \n",
        "        rewards.append(score) \n",
        "        if(len(rewards)%500==0):\n",
        "                 plt.figure(figsize=(10, 5))\n",
        "                 plot_rewards(rewards, 1, \"DQN\")\n",
        "        scores_window.append(score)       # save most recent score\n",
        "        scores_window_printing.append(score)              # save most recent score\n",
        "        eps = max(eps_end, eps_decay*eps) # decrease epsilon\n",
        "        print('\\rEpisode {}\\tAverage Score: {:.2f}'.format(i_episode, np.mean(scores_window)), end=\"\")  \n",
        "        if i_episode % 10 == 0: \n",
        "            scores.append(np.mean(scores_window_printing))        \n",
        "        if i_episode % 100 == 0: \n",
        "           print('\\rEpisode {}\\tAverage Score: {:.2f}'.format(i_episode, np.mean(scores_window)))\n",
        "        # if np.mean(scores_window)>=195.0:\n",
        "        #   print('\\nEnvironment solved in {:d} episodes!\\tAverage Score: {:.2f}'.format(i_episode-100, np.mean(scores_window)))\n",
        "        #   break\n",
        "    return rewards, [np.array(scores),i_episode-100]"
      ],
      "metadata": {
        "id": "5CXkVBiUTANW"
      },
      "id": "5CXkVBiUTANW",
      "execution_count": 32,
      "outputs": []
    },
    {
      "cell_type": "markdown",
      "source": [
        "**Training the DQN agent**"
      ],
      "metadata": {
        "id": "XeuW0gNHfRjK"
      },
      "id": "XeuW0gNHfRjK"
    },
    {
      "cell_type": "code",
      "source": [
        "# Playing the game\n",
        "env = gym.make('CartPole-v1')\n",
        "env.seed(0)\n",
        "state_shape = env.observation_space.shape[0]\n",
        "action_shape = env.action_space.n\n",
        "\n",
        "# Trial run to check if algorithm runs and saves the data\n",
        "begin_time = datetime.datetime.now()\n",
        "agent = Agent(state_size=state_shape,action_size = action_shape,seed = 0)\n",
        "rewards,_ = train(n_episodes=200)\n",
        "time_taken = datetime.datetime.now() - begin_time\n",
        "print(time_taken)"
      ],
      "metadata": {
        "id": "7sZGkmOtTDot",
        "colab": {
          "base_uri": "https://localhost:8080/"
        },
        "outputId": "73fe49fa-66bf-44d3-b266-cac4db2abd60"
      },
      "id": "7sZGkmOtTDot",
      "execution_count": 33,
      "outputs": [
        {
          "output_type": "stream",
          "name": "stdout",
          "text": [
            "Episode 100\tAverage Score: 34.61\n",
            "Episode 200\tAverage Score: 155.02\n",
            "0:01:27.947769\n"
          ]
        }
      ]
    },
    {
      "cell_type": "markdown",
      "source": [
        "**Plotting the training curve of the DQN agent**"
      ],
      "metadata": {
        "id": "9xETfrEbaj-E"
      },
      "id": "9xETfrEbaj-E"
    },
    {
      "cell_type": "code",
      "source": [
        "plt.figure(figsize=(10, 5))\n",
        "plot_rewards(rewards, 1, \"DQN\")"
      ],
      "metadata": {
        "id": "6RyhsLCHajLO",
        "colab": {
          "base_uri": "https://localhost:8080/",
          "height": 370
        },
        "outputId": "02a03957-fbfe-48c7-c26f-e1d29f59218e"
      },
      "id": "6RyhsLCHajLO",
      "execution_count": 34,
      "outputs": [
        {
          "output_type": "display_data",
          "data": {
            "image/png": "[encoded data removed]",
            "text/plain": [
              "<Figure size 720x360 with 1 Axes>"
            ]
          },
          "metadata": {
            "needs_background": "light"
          }
        }
      ]
    },
    {
      "cell_type": "markdown",
      "source": [
        "**Task 2: Rendering an episode with the trained DQN agent**\n",
        "\n",
        "Your task will be to run an episode of simulation with the DQN agent. After every 50 steps of the episode, **you are to print the step reward r as well as the cumulative reward from the beginning of the episode**. Complete the code and run the function to render the episode. The function returns the cumulative reward"
      ],
      "metadata": {
        "id": "3g_rtlYrTUW4"
      },
      "id": "3g_rtlYrTUW4"
    },
    {
      "cell_type": "code",
      "source": [
        "print(agent.act(env.reset()))"
      ],
      "metadata": {
        "id": "cu5tl9eS0h8W",
        "colab": {
          "base_uri": "https://localhost:8080/"
        },
        "outputId": "8b6b3026-0ca1-4dee-ef9c-0a94d38c2632"
      },
      "id": "cu5tl9eS0h8W",
      "execution_count": 35,
      "outputs": [
        {
          "output_type": "stream",
          "name": "stdout",
          "text": [
            "0\n"
          ]
        }
      ]
    },
    {
      "cell_type": "code",
      "source": [
        "def simulate_episode_dqn(env, wrap = False, render = False, video = False, log = False): #if log==True, print the step reward and cumulative reward\n",
        "    \n",
        "    if(wrap):\n",
        "      env = wrap_env(env) \n",
        "    obs = env.reset()\n",
        "    cumulative_reward = 0\n",
        "    steps = 0\n",
        "    \n",
        "    \n",
        "    while True:\n",
        "      if(render):\n",
        "        env.render()\n",
        "      action = agent.act(obs)\n",
        "      next_observation,reward , done , _ = env.step(action)\n",
        "\n",
        "      obs = next_observation\n",
        "\n",
        "      cumulative_reward += reward\n",
        "      steps += 1\n",
        "\n",
        "      if(steps%10 == 0 and log == True):\n",
        "        print('Reward', reward)\n",
        "        print('Cumulative Reward', cumulative_reward)\n",
        "      \n",
        "      if(done or steps > 500):\n",
        "        break\n",
        "        \n",
        "\n",
        "\n",
        "    \n",
        "\n",
        "      \n",
        "\n",
        "\n",
        "                \n",
        "    env.close()\n",
        "    if(video):\n",
        "      show_video()\n",
        "    return #__#"
      ],
      "metadata": {
        "id": "fn0ipuujulIS"
      },
      "id": "fn0ipuujulIS",
      "execution_count": 36,
      "outputs": []
    },
    {
      "cell_type": "code",
      "source": [
        "#Make environment\n",
        "total_rew = simulate_episode_dqn(env, wrap = True, render = True, video = True, log = True)\n",
        "print(\"Cumulative reward after episode termination\", total_rew)"
      ],
      "metadata": {
        "id": "FXoRZSzvtBJG",
        "colab": {
          "base_uri": "https://localhost:8080/",
          "height": 1000
        },
        "outputId": "e7cf1026-8bb3-4f90-c42b-364b7259577e"
      },
      "id": "FXoRZSzvtBJG",
      "execution_count": 37,
      "outputs": [
        {
          "output_type": "stream",
          "name": "stdout",
          "text": [
            "Reward 1.0\n",
            "Cumulative Reward 10.0\n",
            "Reward 1.0\n",
            "Cumulative Reward 20.0\n",
            "Reward 1.0\n",
            "Cumulative Reward 30.0\n",
            "Reward 1.0\n",
            "Cumulative Reward 40.0\n",
            "Reward 1.0\n",
            "Cumulative Reward 50.0\n",
            "Reward 1.0\n",
            "Cumulative Reward 60.0\n",
            "Reward 1.0\n",
            "Cumulative Reward 70.0\n",
            "Reward 1.0\n",
            "Cumulative Reward 80.0\n",
            "Reward 1.0\n",
            "Cumulative Reward 90.0\n",
            "Reward 1.0\n",
            "Cumulative Reward 100.0\n",
            "Reward 1.0\n",
            "Cumulative Reward 110.0\n",
            "Reward 1.0\n",
            "Cumulative Reward 120.0\n",
            "Reward 1.0\n",
            "Cumulative Reward 130.0\n",
            "Reward 1.0\n",
            "Cumulative Reward 140.0\n",
            "Reward 1.0\n",
            "Cumulative Reward 150.0\n",
            "Reward 1.0\n",
            "Cumulative Reward 160.0\n",
            "Reward 1.0\n",
            "Cumulative Reward 170.0\n",
            "Reward 1.0\n",
            "Cumulative Reward 180.0\n",
            "Reward 1.0\n",
            "Cumulative Reward 190.0\n",
            "Reward 1.0\n",
            "Cumulative Reward 200.0\n",
            "Reward 1.0\n",
            "Cumulative Reward 210.0\n",
            "Reward 1.0\n",
            "Cumulative Reward 220.0\n",
            "Reward 1.0\n",
            "Cumulative Reward 230.0\n",
            "Reward 1.0\n",
            "Cumulative Reward 240.0\n",
            "Reward 1.0\n",
            "Cumulative Reward 250.0\n",
            "Reward 1.0\n",
            "Cumulative Reward 260.0\n"
          ]
        },
        {
          "output_type": "display_data",
          "data": {
            "text/html": [
              "<video alt=\"test\" autoplay \n",
              "                loop controls style=\"height: 400px;\">\n",
              "                <source src=\"data:video/mp4;base64,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\" type=\"video/mp4\" />\n",
              "             </video>"
            ],
            "text/plain": [
              "<IPython.core.display.HTML object>"
            ]
          },
          "metadata": {}
        },
        {
          "output_type": "stream",
          "name": "stdout",
          "text": [
            "Cumulative reward after episode termination None\n"
          ]
        }
      ]
    },
    {
      "cell_type": "markdown",
      "source": [
        "## ------------------ **THANK YOU** ------------------- "
      ],
      "metadata": {
        "id": "bSzLKukxwlAc"
      },
      "id": "bSzLKukxwlAc"
    }
  ],
  "metadata": {
    "kernelspec": {
      "display_name": "Python 3 (ipykernel)",
      "language": "python",
      "name": "python3"
    },
    "language_info": {
      "codemirror_mode": {
        "name": "ipython",
        "version": 3
      },
      "file_extension": ".py",
      "mimetype": "text/x-python",
      "name": "python",
      "nbconvert_exporter": "python",
      "pygments_lexer": "ipython3",
      "version": "3.9.7"
    },
    "colab": {
      "name": "Tutorial_1_Monday (2).ipynb",
      "provenance": [],
      "collapsed_sections": []
    },
    "accelerator": "GPU"
  },
  "nbformat": 4,
  "nbformat_minor": 5
}